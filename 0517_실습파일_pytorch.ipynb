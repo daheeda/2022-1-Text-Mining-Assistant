{
  "nbformat": 4,
  "nbformat_minor": 0,
  "metadata": {
    "colab": {
      "provenance": []
    },
    "kernelspec": {
      "name": "python3",
      "display_name": "Python 3"
    },
    "accelerator": "GPU",
    "widgets": {
      "application/vnd.jupyter.widget-state+json": {
        "e15e7ef7e9474e0492b9228c7c58d677": {
          "model_module": "@jupyter-widgets/controls",
          "model_name": "HBoxModel",
          "model_module_version": "1.5.0",
          "state": {
            "_dom_classes": [],
            "_model_module": "@jupyter-widgets/controls",
            "_model_module_version": "1.5.0",
            "_model_name": "HBoxModel",
            "_view_count": null,
            "_view_module": "@jupyter-widgets/controls",
            "_view_module_version": "1.5.0",
            "_view_name": "HBoxView",
            "box_style": "",
            "children": [
              "IPY_MODEL_71ce22e8d68741a8b1079f213d8ab4d1",
              "IPY_MODEL_c8905de40ce7454ea95493a385be7415",
              "IPY_MODEL_0b3ad8415e6f4723aa8efe4ba1916960"
            ],
            "layout": "IPY_MODEL_2f31d289c55340879e2246a2450d7652"
          }
        },
        "71ce22e8d68741a8b1079f213d8ab4d1": {
          "model_module": "@jupyter-widgets/controls",
          "model_name": "HTMLModel",
          "model_module_version": "1.5.0",
          "state": {
            "_dom_classes": [],
            "_model_module": "@jupyter-widgets/controls",
            "_model_module_version": "1.5.0",
            "_model_name": "HTMLModel",
            "_view_count": null,
            "_view_module": "@jupyter-widgets/controls",
            "_view_module_version": "1.5.0",
            "_view_name": "HTMLView",
            "description": "",
            "description_tooltip": null,
            "layout": "IPY_MODEL_6c1e9a0ea8874bb483e110cf9a413643",
            "placeholder": "​",
            "style": "IPY_MODEL_eabfb1ce836c4e419676763f3c4622ee",
            "value": ""
          }
        },
        "c8905de40ce7454ea95493a385be7415": {
          "model_module": "@jupyter-widgets/controls",
          "model_name": "FloatProgressModel",
          "model_module_version": "1.5.0",
          "state": {
            "_dom_classes": [],
            "_model_module": "@jupyter-widgets/controls",
            "_model_module_version": "1.5.0",
            "_model_name": "FloatProgressModel",
            "_view_count": null,
            "_view_module": "@jupyter-widgets/controls",
            "_view_module_version": "1.5.0",
            "_view_name": "ProgressView",
            "bar_style": "success",
            "description": "",
            "description_tooltip": null,
            "layout": "IPY_MODEL_8969678ff0f344169d49060acffc50f5",
            "max": 26421880,
            "min": 0,
            "orientation": "horizontal",
            "style": "IPY_MODEL_b8df8a23060347ada6961179ed9775e0",
            "value": 26421880
          }
        },
        "0b3ad8415e6f4723aa8efe4ba1916960": {
          "model_module": "@jupyter-widgets/controls",
          "model_name": "HTMLModel",
          "model_module_version": "1.5.0",
          "state": {
            "_dom_classes": [],
            "_model_module": "@jupyter-widgets/controls",
            "_model_module_version": "1.5.0",
            "_model_name": "HTMLModel",
            "_view_count": null,
            "_view_module": "@jupyter-widgets/controls",
            "_view_module_version": "1.5.0",
            "_view_name": "HTMLView",
            "description": "",
            "description_tooltip": null,
            "layout": "IPY_MODEL_2d5d3ae4e9af41cea4a4af30f3e5a614",
            "placeholder": "​",
            "style": "IPY_MODEL_813053ca0033458a8cf0844c22fb63a8",
            "value": " 26422272/? [00:01&lt;00:00, 23167119.74it/s]"
          }
        },
        "2f31d289c55340879e2246a2450d7652": {
          "model_module": "@jupyter-widgets/base",
          "model_name": "LayoutModel",
          "model_module_version": "1.2.0",
          "state": {
            "_model_module": "@jupyter-widgets/base",
            "_model_module_version": "1.2.0",
            "_model_name": "LayoutModel",
            "_view_count": null,
            "_view_module": "@jupyter-widgets/base",
            "_view_module_version": "1.2.0",
            "_view_name": "LayoutView",
            "align_content": null,
            "align_items": null,
            "align_self": null,
            "border": null,
            "bottom": null,
            "display": null,
            "flex": null,
            "flex_flow": null,
            "grid_area": null,
            "grid_auto_columns": null,
            "grid_auto_flow": null,
            "grid_auto_rows": null,
            "grid_column": null,
            "grid_gap": null,
            "grid_row": null,
            "grid_template_areas": null,
            "grid_template_columns": null,
            "grid_template_rows": null,
            "height": null,
            "justify_content": null,
            "justify_items": null,
            "left": null,
            "margin": null,
            "max_height": null,
            "max_width": null,
            "min_height": null,
            "min_width": null,
            "object_fit": null,
            "object_position": null,
            "order": null,
            "overflow": null,
            "overflow_x": null,
            "overflow_y": null,
            "padding": null,
            "right": null,
            "top": null,
            "visibility": null,
            "width": null
          }
        },
        "6c1e9a0ea8874bb483e110cf9a413643": {
          "model_module": "@jupyter-widgets/base",
          "model_name": "LayoutModel",
          "model_module_version": "1.2.0",
          "state": {
            "_model_module": "@jupyter-widgets/base",
            "_model_module_version": "1.2.0",
            "_model_name": "LayoutModel",
            "_view_count": null,
            "_view_module": "@jupyter-widgets/base",
            "_view_module_version": "1.2.0",
            "_view_name": "LayoutView",
            "align_content": null,
            "align_items": null,
            "align_self": null,
            "border": null,
            "bottom": null,
            "display": null,
            "flex": null,
            "flex_flow": null,
            "grid_area": null,
            "grid_auto_columns": null,
            "grid_auto_flow": null,
            "grid_auto_rows": null,
            "grid_column": null,
            "grid_gap": null,
            "grid_row": null,
            "grid_template_areas": null,
            "grid_template_columns": null,
            "grid_template_rows": null,
            "height": null,
            "justify_content": null,
            "justify_items": null,
            "left": null,
            "margin": null,
            "max_height": null,
            "max_width": null,
            "min_height": null,
            "min_width": null,
            "object_fit": null,
            "object_position": null,
            "order": null,
            "overflow": null,
            "overflow_x": null,
            "overflow_y": null,
            "padding": null,
            "right": null,
            "top": null,
            "visibility": null,
            "width": null
          }
        },
        "eabfb1ce836c4e419676763f3c4622ee": {
          "model_module": "@jupyter-widgets/controls",
          "model_name": "DescriptionStyleModel",
          "model_module_version": "1.5.0",
          "state": {
            "_model_module": "@jupyter-widgets/controls",
            "_model_module_version": "1.5.0",
            "_model_name": "DescriptionStyleModel",
            "_view_count": null,
            "_view_module": "@jupyter-widgets/base",
            "_view_module_version": "1.2.0",
            "_view_name": "StyleView",
            "description_width": ""
          }
        },
        "8969678ff0f344169d49060acffc50f5": {
          "model_module": "@jupyter-widgets/base",
          "model_name": "LayoutModel",
          "model_module_version": "1.2.0",
          "state": {
            "_model_module": "@jupyter-widgets/base",
            "_model_module_version": "1.2.0",
            "_model_name": "LayoutModel",
            "_view_count": null,
            "_view_module": "@jupyter-widgets/base",
            "_view_module_version": "1.2.0",
            "_view_name": "LayoutView",
            "align_content": null,
            "align_items": null,
            "align_self": null,
            "border": null,
            "bottom": null,
            "display": null,
            "flex": null,
            "flex_flow": null,
            "grid_area": null,
            "grid_auto_columns": null,
            "grid_auto_flow": null,
            "grid_auto_rows": null,
            "grid_column": null,
            "grid_gap": null,
            "grid_row": null,
            "grid_template_areas": null,
            "grid_template_columns": null,
            "grid_template_rows": null,
            "height": null,
            "justify_content": null,
            "justify_items": null,
            "left": null,
            "margin": null,
            "max_height": null,
            "max_width": null,
            "min_height": null,
            "min_width": null,
            "object_fit": null,
            "object_position": null,
            "order": null,
            "overflow": null,
            "overflow_x": null,
            "overflow_y": null,
            "padding": null,
            "right": null,
            "top": null,
            "visibility": null,
            "width": null
          }
        },
        "b8df8a23060347ada6961179ed9775e0": {
          "model_module": "@jupyter-widgets/controls",
          "model_name": "ProgressStyleModel",
          "model_module_version": "1.5.0",
          "state": {
            "_model_module": "@jupyter-widgets/controls",
            "_model_module_version": "1.5.0",
            "_model_name": "ProgressStyleModel",
            "_view_count": null,
            "_view_module": "@jupyter-widgets/base",
            "_view_module_version": "1.2.0",
            "_view_name": "StyleView",
            "bar_color": null,
            "description_width": ""
          }
        },
        "2d5d3ae4e9af41cea4a4af30f3e5a614": {
          "model_module": "@jupyter-widgets/base",
          "model_name": "LayoutModel",
          "model_module_version": "1.2.0",
          "state": {
            "_model_module": "@jupyter-widgets/base",
            "_model_module_version": "1.2.0",
            "_model_name": "LayoutModel",
            "_view_count": null,
            "_view_module": "@jupyter-widgets/base",
            "_view_module_version": "1.2.0",
            "_view_name": "LayoutView",
            "align_content": null,
            "align_items": null,
            "align_self": null,
            "border": null,
            "bottom": null,
            "display": null,
            "flex": null,
            "flex_flow": null,
            "grid_area": null,
            "grid_auto_columns": null,
            "grid_auto_flow": null,
            "grid_auto_rows": null,
            "grid_column": null,
            "grid_gap": null,
            "grid_row": null,
            "grid_template_areas": null,
            "grid_template_columns": null,
            "grid_template_rows": null,
            "height": null,
            "justify_content": null,
            "justify_items": null,
            "left": null,
            "margin": null,
            "max_height": null,
            "max_width": null,
            "min_height": null,
            "min_width": null,
            "object_fit": null,
            "object_position": null,
            "order": null,
            "overflow": null,
            "overflow_x": null,
            "overflow_y": null,
            "padding": null,
            "right": null,
            "top": null,
            "visibility": null,
            "width": null
          }
        },
        "813053ca0033458a8cf0844c22fb63a8": {
          "model_module": "@jupyter-widgets/controls",
          "model_name": "DescriptionStyleModel",
          "model_module_version": "1.5.0",
          "state": {
            "_model_module": "@jupyter-widgets/controls",
            "_model_module_version": "1.5.0",
            "_model_name": "DescriptionStyleModel",
            "_view_count": null,
            "_view_module": "@jupyter-widgets/base",
            "_view_module_version": "1.2.0",
            "_view_name": "StyleView",
            "description_width": ""
          }
        },
        "1d21c73960094992890a22eb1949ec8c": {
          "model_module": "@jupyter-widgets/controls",
          "model_name": "HBoxModel",
          "model_module_version": "1.5.0",
          "state": {
            "_dom_classes": [],
            "_model_module": "@jupyter-widgets/controls",
            "_model_module_version": "1.5.0",
            "_model_name": "HBoxModel",
            "_view_count": null,
            "_view_module": "@jupyter-widgets/controls",
            "_view_module_version": "1.5.0",
            "_view_name": "HBoxView",
            "box_style": "",
            "children": [
              "IPY_MODEL_55275226dd8d4b36aac982cb794eadfc",
              "IPY_MODEL_ebf8387db0c64ecaa439cfeeaf1e958b",
              "IPY_MODEL_a218be54ad3140cfba98fa1d22fffd46"
            ],
            "layout": "IPY_MODEL_f96950ba985d486cb3c394172380134e"
          }
        },
        "55275226dd8d4b36aac982cb794eadfc": {
          "model_module": "@jupyter-widgets/controls",
          "model_name": "HTMLModel",
          "model_module_version": "1.5.0",
          "state": {
            "_dom_classes": [],
            "_model_module": "@jupyter-widgets/controls",
            "_model_module_version": "1.5.0",
            "_model_name": "HTMLModel",
            "_view_count": null,
            "_view_module": "@jupyter-widgets/controls",
            "_view_module_version": "1.5.0",
            "_view_name": "HTMLView",
            "description": "",
            "description_tooltip": null,
            "layout": "IPY_MODEL_4afaf6c1bb3342a79eb8f61b2d80ef41",
            "placeholder": "​",
            "style": "IPY_MODEL_a925e5a780d94f1e87124a916f3c9fad",
            "value": ""
          }
        },
        "ebf8387db0c64ecaa439cfeeaf1e958b": {
          "model_module": "@jupyter-widgets/controls",
          "model_name": "FloatProgressModel",
          "model_module_version": "1.5.0",
          "state": {
            "_dom_classes": [],
            "_model_module": "@jupyter-widgets/controls",
            "_model_module_version": "1.5.0",
            "_model_name": "FloatProgressModel",
            "_view_count": null,
            "_view_module": "@jupyter-widgets/controls",
            "_view_module_version": "1.5.0",
            "_view_name": "ProgressView",
            "bar_style": "success",
            "description": "",
            "description_tooltip": null,
            "layout": "IPY_MODEL_cd968c38d13f4990aa6b3abd4e2c3e5c",
            "max": 29515,
            "min": 0,
            "orientation": "horizontal",
            "style": "IPY_MODEL_3edadbdfab5846a88677754e0537b72e",
            "value": 29515
          }
        },
        "a218be54ad3140cfba98fa1d22fffd46": {
          "model_module": "@jupyter-widgets/controls",
          "model_name": "HTMLModel",
          "model_module_version": "1.5.0",
          "state": {
            "_dom_classes": [],
            "_model_module": "@jupyter-widgets/controls",
            "_model_module_version": "1.5.0",
            "_model_name": "HTMLModel",
            "_view_count": null,
            "_view_module": "@jupyter-widgets/controls",
            "_view_module_version": "1.5.0",
            "_view_name": "HTMLView",
            "description": "",
            "description_tooltip": null,
            "layout": "IPY_MODEL_475e2715258f4f2bb2d2bd5759321e11",
            "placeholder": "​",
            "style": "IPY_MODEL_8366c758152341f4adc8f84853e805f9",
            "value": " 29696/? [00:00&lt;00:00, 135608.93it/s]"
          }
        },
        "f96950ba985d486cb3c394172380134e": {
          "model_module": "@jupyter-widgets/base",
          "model_name": "LayoutModel",
          "model_module_version": "1.2.0",
          "state": {
            "_model_module": "@jupyter-widgets/base",
            "_model_module_version": "1.2.0",
            "_model_name": "LayoutModel",
            "_view_count": null,
            "_view_module": "@jupyter-widgets/base",
            "_view_module_version": "1.2.0",
            "_view_name": "LayoutView",
            "align_content": null,
            "align_items": null,
            "align_self": null,
            "border": null,
            "bottom": null,
            "display": null,
            "flex": null,
            "flex_flow": null,
            "grid_area": null,
            "grid_auto_columns": null,
            "grid_auto_flow": null,
            "grid_auto_rows": null,
            "grid_column": null,
            "grid_gap": null,
            "grid_row": null,
            "grid_template_areas": null,
            "grid_template_columns": null,
            "grid_template_rows": null,
            "height": null,
            "justify_content": null,
            "justify_items": null,
            "left": null,
            "margin": null,
            "max_height": null,
            "max_width": null,
            "min_height": null,
            "min_width": null,
            "object_fit": null,
            "object_position": null,
            "order": null,
            "overflow": null,
            "overflow_x": null,
            "overflow_y": null,
            "padding": null,
            "right": null,
            "top": null,
            "visibility": null,
            "width": null
          }
        },
        "4afaf6c1bb3342a79eb8f61b2d80ef41": {
          "model_module": "@jupyter-widgets/base",
          "model_name": "LayoutModel",
          "model_module_version": "1.2.0",
          "state": {
            "_model_module": "@jupyter-widgets/base",
            "_model_module_version": "1.2.0",
            "_model_name": "LayoutModel",
            "_view_count": null,
            "_view_module": "@jupyter-widgets/base",
            "_view_module_version": "1.2.0",
            "_view_name": "LayoutView",
            "align_content": null,
            "align_items": null,
            "align_self": null,
            "border": null,
            "bottom": null,
            "display": null,
            "flex": null,
            "flex_flow": null,
            "grid_area": null,
            "grid_auto_columns": null,
            "grid_auto_flow": null,
            "grid_auto_rows": null,
            "grid_column": null,
            "grid_gap": null,
            "grid_row": null,
            "grid_template_areas": null,
            "grid_template_columns": null,
            "grid_template_rows": null,
            "height": null,
            "justify_content": null,
            "justify_items": null,
            "left": null,
            "margin": null,
            "max_height": null,
            "max_width": null,
            "min_height": null,
            "min_width": null,
            "object_fit": null,
            "object_position": null,
            "order": null,
            "overflow": null,
            "overflow_x": null,
            "overflow_y": null,
            "padding": null,
            "right": null,
            "top": null,
            "visibility": null,
            "width": null
          }
        },
        "a925e5a780d94f1e87124a916f3c9fad": {
          "model_module": "@jupyter-widgets/controls",
          "model_name": "DescriptionStyleModel",
          "model_module_version": "1.5.0",
          "state": {
            "_model_module": "@jupyter-widgets/controls",
            "_model_module_version": "1.5.0",
            "_model_name": "DescriptionStyleModel",
            "_view_count": null,
            "_view_module": "@jupyter-widgets/base",
            "_view_module_version": "1.2.0",
            "_view_name": "StyleView",
            "description_width": ""
          }
        },
        "cd968c38d13f4990aa6b3abd4e2c3e5c": {
          "model_module": "@jupyter-widgets/base",
          "model_name": "LayoutModel",
          "model_module_version": "1.2.0",
          "state": {
            "_model_module": "@jupyter-widgets/base",
            "_model_module_version": "1.2.0",
            "_model_name": "LayoutModel",
            "_view_count": null,
            "_view_module": "@jupyter-widgets/base",
            "_view_module_version": "1.2.0",
            "_view_name": "LayoutView",
            "align_content": null,
            "align_items": null,
            "align_self": null,
            "border": null,
            "bottom": null,
            "display": null,
            "flex": null,
            "flex_flow": null,
            "grid_area": null,
            "grid_auto_columns": null,
            "grid_auto_flow": null,
            "grid_auto_rows": null,
            "grid_column": null,
            "grid_gap": null,
            "grid_row": null,
            "grid_template_areas": null,
            "grid_template_columns": null,
            "grid_template_rows": null,
            "height": null,
            "justify_content": null,
            "justify_items": null,
            "left": null,
            "margin": null,
            "max_height": null,
            "max_width": null,
            "min_height": null,
            "min_width": null,
            "object_fit": null,
            "object_position": null,
            "order": null,
            "overflow": null,
            "overflow_x": null,
            "overflow_y": null,
            "padding": null,
            "right": null,
            "top": null,
            "visibility": null,
            "width": null
          }
        },
        "3edadbdfab5846a88677754e0537b72e": {
          "model_module": "@jupyter-widgets/controls",
          "model_name": "ProgressStyleModel",
          "model_module_version": "1.5.0",
          "state": {
            "_model_module": "@jupyter-widgets/controls",
            "_model_module_version": "1.5.0",
            "_model_name": "ProgressStyleModel",
            "_view_count": null,
            "_view_module": "@jupyter-widgets/base",
            "_view_module_version": "1.2.0",
            "_view_name": "StyleView",
            "bar_color": null,
            "description_width": ""
          }
        },
        "475e2715258f4f2bb2d2bd5759321e11": {
          "model_module": "@jupyter-widgets/base",
          "model_name": "LayoutModel",
          "model_module_version": "1.2.0",
          "state": {
            "_model_module": "@jupyter-widgets/base",
            "_model_module_version": "1.2.0",
            "_model_name": "LayoutModel",
            "_view_count": null,
            "_view_module": "@jupyter-widgets/base",
            "_view_module_version": "1.2.0",
            "_view_name": "LayoutView",
            "align_content": null,
            "align_items": null,
            "align_self": null,
            "border": null,
            "bottom": null,
            "display": null,
            "flex": null,
            "flex_flow": null,
            "grid_area": null,
            "grid_auto_columns": null,
            "grid_auto_flow": null,
            "grid_auto_rows": null,
            "grid_column": null,
            "grid_gap": null,
            "grid_row": null,
            "grid_template_areas": null,
            "grid_template_columns": null,
            "grid_template_rows": null,
            "height": null,
            "justify_content": null,
            "justify_items": null,
            "left": null,
            "margin": null,
            "max_height": null,
            "max_width": null,
            "min_height": null,
            "min_width": null,
            "object_fit": null,
            "object_position": null,
            "order": null,
            "overflow": null,
            "overflow_x": null,
            "overflow_y": null,
            "padding": null,
            "right": null,
            "top": null,
            "visibility": null,
            "width": null
          }
        },
        "8366c758152341f4adc8f84853e805f9": {
          "model_module": "@jupyter-widgets/controls",
          "model_name": "DescriptionStyleModel",
          "model_module_version": "1.5.0",
          "state": {
            "_model_module": "@jupyter-widgets/controls",
            "_model_module_version": "1.5.0",
            "_model_name": "DescriptionStyleModel",
            "_view_count": null,
            "_view_module": "@jupyter-widgets/base",
            "_view_module_version": "1.2.0",
            "_view_name": "StyleView",
            "description_width": ""
          }
        },
        "bb999f321fce4d6ca8ef8739cd95f8cb": {
          "model_module": "@jupyter-widgets/controls",
          "model_name": "HBoxModel",
          "model_module_version": "1.5.0",
          "state": {
            "_dom_classes": [],
            "_model_module": "@jupyter-widgets/controls",
            "_model_module_version": "1.5.0",
            "_model_name": "HBoxModel",
            "_view_count": null,
            "_view_module": "@jupyter-widgets/controls",
            "_view_module_version": "1.5.0",
            "_view_name": "HBoxView",
            "box_style": "",
            "children": [
              "IPY_MODEL_caa6f707402e4632b64eb650a00c645f",
              "IPY_MODEL_41e696a46a8a492abd115af17c81e6a0",
              "IPY_MODEL_ae48ef0b5ee24c8b8545ab6f8e67f123"
            ],
            "layout": "IPY_MODEL_8d557a396727417c970e6dda94de16a6"
          }
        },
        "caa6f707402e4632b64eb650a00c645f": {
          "model_module": "@jupyter-widgets/controls",
          "model_name": "HTMLModel",
          "model_module_version": "1.5.0",
          "state": {
            "_dom_classes": [],
            "_model_module": "@jupyter-widgets/controls",
            "_model_module_version": "1.5.0",
            "_model_name": "HTMLModel",
            "_view_count": null,
            "_view_module": "@jupyter-widgets/controls",
            "_view_module_version": "1.5.0",
            "_view_name": "HTMLView",
            "description": "",
            "description_tooltip": null,
            "layout": "IPY_MODEL_02bddee23767433687c52f7b7e34650f",
            "placeholder": "​",
            "style": "IPY_MODEL_a7a3b45eae184e348e380b77aa7e831d",
            "value": ""
          }
        },
        "41e696a46a8a492abd115af17c81e6a0": {
          "model_module": "@jupyter-widgets/controls",
          "model_name": "FloatProgressModel",
          "model_module_version": "1.5.0",
          "state": {
            "_dom_classes": [],
            "_model_module": "@jupyter-widgets/controls",
            "_model_module_version": "1.5.0",
            "_model_name": "FloatProgressModel",
            "_view_count": null,
            "_view_module": "@jupyter-widgets/controls",
            "_view_module_version": "1.5.0",
            "_view_name": "ProgressView",
            "bar_style": "success",
            "description": "",
            "description_tooltip": null,
            "layout": "IPY_MODEL_c65ec01412fe41bda1462e0e61277b9c",
            "max": 4422102,
            "min": 0,
            "orientation": "horizontal",
            "style": "IPY_MODEL_9806e718fd8e4ebfbb2baeb8e01ea8a7",
            "value": 4422102
          }
        },
        "ae48ef0b5ee24c8b8545ab6f8e67f123": {
          "model_module": "@jupyter-widgets/controls",
          "model_name": "HTMLModel",
          "model_module_version": "1.5.0",
          "state": {
            "_dom_classes": [],
            "_model_module": "@jupyter-widgets/controls",
            "_model_module_version": "1.5.0",
            "_model_name": "HTMLModel",
            "_view_count": null,
            "_view_module": "@jupyter-widgets/controls",
            "_view_module_version": "1.5.0",
            "_view_name": "HTMLView",
            "description": "",
            "description_tooltip": null,
            "layout": "IPY_MODEL_b191bc1f478949a59642a0ed411aff50",
            "placeholder": "​",
            "style": "IPY_MODEL_36b7c600fa624d4eadb71e740cef702e",
            "value": " 4422656/? [00:00&lt;00:00, 8896308.29it/s]"
          }
        },
        "8d557a396727417c970e6dda94de16a6": {
          "model_module": "@jupyter-widgets/base",
          "model_name": "LayoutModel",
          "model_module_version": "1.2.0",
          "state": {
            "_model_module": "@jupyter-widgets/base",
            "_model_module_version": "1.2.0",
            "_model_name": "LayoutModel",
            "_view_count": null,
            "_view_module": "@jupyter-widgets/base",
            "_view_module_version": "1.2.0",
            "_view_name": "LayoutView",
            "align_content": null,
            "align_items": null,
            "align_self": null,
            "border": null,
            "bottom": null,
            "display": null,
            "flex": null,
            "flex_flow": null,
            "grid_area": null,
            "grid_auto_columns": null,
            "grid_auto_flow": null,
            "grid_auto_rows": null,
            "grid_column": null,
            "grid_gap": null,
            "grid_row": null,
            "grid_template_areas": null,
            "grid_template_columns": null,
            "grid_template_rows": null,
            "height": null,
            "justify_content": null,
            "justify_items": null,
            "left": null,
            "margin": null,
            "max_height": null,
            "max_width": null,
            "min_height": null,
            "min_width": null,
            "object_fit": null,
            "object_position": null,
            "order": null,
            "overflow": null,
            "overflow_x": null,
            "overflow_y": null,
            "padding": null,
            "right": null,
            "top": null,
            "visibility": null,
            "width": null
          }
        },
        "02bddee23767433687c52f7b7e34650f": {
          "model_module": "@jupyter-widgets/base",
          "model_name": "LayoutModel",
          "model_module_version": "1.2.0",
          "state": {
            "_model_module": "@jupyter-widgets/base",
            "_model_module_version": "1.2.0",
            "_model_name": "LayoutModel",
            "_view_count": null,
            "_view_module": "@jupyter-widgets/base",
            "_view_module_version": "1.2.0",
            "_view_name": "LayoutView",
            "align_content": null,
            "align_items": null,
            "align_self": null,
            "border": null,
            "bottom": null,
            "display": null,
            "flex": null,
            "flex_flow": null,
            "grid_area": null,
            "grid_auto_columns": null,
            "grid_auto_flow": null,
            "grid_auto_rows": null,
            "grid_column": null,
            "grid_gap": null,
            "grid_row": null,
            "grid_template_areas": null,
            "grid_template_columns": null,
            "grid_template_rows": null,
            "height": null,
            "justify_content": null,
            "justify_items": null,
            "left": null,
            "margin": null,
            "max_height": null,
            "max_width": null,
            "min_height": null,
            "min_width": null,
            "object_fit": null,
            "object_position": null,
            "order": null,
            "overflow": null,
            "overflow_x": null,
            "overflow_y": null,
            "padding": null,
            "right": null,
            "top": null,
            "visibility": null,
            "width": null
          }
        },
        "a7a3b45eae184e348e380b77aa7e831d": {
          "model_module": "@jupyter-widgets/controls",
          "model_name": "DescriptionStyleModel",
          "model_module_version": "1.5.0",
          "state": {
            "_model_module": "@jupyter-widgets/controls",
            "_model_module_version": "1.5.0",
            "_model_name": "DescriptionStyleModel",
            "_view_count": null,
            "_view_module": "@jupyter-widgets/base",
            "_view_module_version": "1.2.0",
            "_view_name": "StyleView",
            "description_width": ""
          }
        },
        "c65ec01412fe41bda1462e0e61277b9c": {
          "model_module": "@jupyter-widgets/base",
          "model_name": "LayoutModel",
          "model_module_version": "1.2.0",
          "state": {
            "_model_module": "@jupyter-widgets/base",
            "_model_module_version": "1.2.0",
            "_model_name": "LayoutModel",
            "_view_count": null,
            "_view_module": "@jupyter-widgets/base",
            "_view_module_version": "1.2.0",
            "_view_name": "LayoutView",
            "align_content": null,
            "align_items": null,
            "align_self": null,
            "border": null,
            "bottom": null,
            "display": null,
            "flex": null,
            "flex_flow": null,
            "grid_area": null,
            "grid_auto_columns": null,
            "grid_auto_flow": null,
            "grid_auto_rows": null,
            "grid_column": null,
            "grid_gap": null,
            "grid_row": null,
            "grid_template_areas": null,
            "grid_template_columns": null,
            "grid_template_rows": null,
            "height": null,
            "justify_content": null,
            "justify_items": null,
            "left": null,
            "margin": null,
            "max_height": null,
            "max_width": null,
            "min_height": null,
            "min_width": null,
            "object_fit": null,
            "object_position": null,
            "order": null,
            "overflow": null,
            "overflow_x": null,
            "overflow_y": null,
            "padding": null,
            "right": null,
            "top": null,
            "visibility": null,
            "width": null
          }
        },
        "9806e718fd8e4ebfbb2baeb8e01ea8a7": {
          "model_module": "@jupyter-widgets/controls",
          "model_name": "ProgressStyleModel",
          "model_module_version": "1.5.0",
          "state": {
            "_model_module": "@jupyter-widgets/controls",
            "_model_module_version": "1.5.0",
            "_model_name": "ProgressStyleModel",
            "_view_count": null,
            "_view_module": "@jupyter-widgets/base",
            "_view_module_version": "1.2.0",
            "_view_name": "StyleView",
            "bar_color": null,
            "description_width": ""
          }
        },
        "b191bc1f478949a59642a0ed411aff50": {
          "model_module": "@jupyter-widgets/base",
          "model_name": "LayoutModel",
          "model_module_version": "1.2.0",
          "state": {
            "_model_module": "@jupyter-widgets/base",
            "_model_module_version": "1.2.0",
            "_model_name": "LayoutModel",
            "_view_count": null,
            "_view_module": "@jupyter-widgets/base",
            "_view_module_version": "1.2.0",
            "_view_name": "LayoutView",
            "align_content": null,
            "align_items": null,
            "align_self": null,
            "border": null,
            "bottom": null,
            "display": null,
            "flex": null,
            "flex_flow": null,
            "grid_area": null,
            "grid_auto_columns": null,
            "grid_auto_flow": null,
            "grid_auto_rows": null,
            "grid_column": null,
            "grid_gap": null,
            "grid_row": null,
            "grid_template_areas": null,
            "grid_template_columns": null,
            "grid_template_rows": null,
            "height": null,
            "justify_content": null,
            "justify_items": null,
            "left": null,
            "margin": null,
            "max_height": null,
            "max_width": null,
            "min_height": null,
            "min_width": null,
            "object_fit": null,
            "object_position": null,
            "order": null,
            "overflow": null,
            "overflow_x": null,
            "overflow_y": null,
            "padding": null,
            "right": null,
            "top": null,
            "visibility": null,
            "width": null
          }
        },
        "36b7c600fa624d4eadb71e740cef702e": {
          "model_module": "@jupyter-widgets/controls",
          "model_name": "DescriptionStyleModel",
          "model_module_version": "1.5.0",
          "state": {
            "_model_module": "@jupyter-widgets/controls",
            "_model_module_version": "1.5.0",
            "_model_name": "DescriptionStyleModel",
            "_view_count": null,
            "_view_module": "@jupyter-widgets/base",
            "_view_module_version": "1.2.0",
            "_view_name": "StyleView",
            "description_width": ""
          }
        },
        "2379d3b9cc4f4089b6314d0a0a71de9f": {
          "model_module": "@jupyter-widgets/controls",
          "model_name": "HBoxModel",
          "model_module_version": "1.5.0",
          "state": {
            "_dom_classes": [],
            "_model_module": "@jupyter-widgets/controls",
            "_model_module_version": "1.5.0",
            "_model_name": "HBoxModel",
            "_view_count": null,
            "_view_module": "@jupyter-widgets/controls",
            "_view_module_version": "1.5.0",
            "_view_name": "HBoxView",
            "box_style": "",
            "children": [
              "IPY_MODEL_41b6f538c13c48ac9f3c128ed4eb3799",
              "IPY_MODEL_958521a6f43e46e18adaf63713dff83c",
              "IPY_MODEL_86fc4cdda83b4f4ab1efd8d8a1f01980"
            ],
            "layout": "IPY_MODEL_855d4a18e1874127a4e04c4dc5a9d31a"
          }
        },
        "41b6f538c13c48ac9f3c128ed4eb3799": {
          "model_module": "@jupyter-widgets/controls",
          "model_name": "HTMLModel",
          "model_module_version": "1.5.0",
          "state": {
            "_dom_classes": [],
            "_model_module": "@jupyter-widgets/controls",
            "_model_module_version": "1.5.0",
            "_model_name": "HTMLModel",
            "_view_count": null,
            "_view_module": "@jupyter-widgets/controls",
            "_view_module_version": "1.5.0",
            "_view_name": "HTMLView",
            "description": "",
            "description_tooltip": null,
            "layout": "IPY_MODEL_477859d0414c404fb0c735f714db5a9d",
            "placeholder": "​",
            "style": "IPY_MODEL_141d7c3832334ceda7576060f38d6ea1",
            "value": ""
          }
        },
        "958521a6f43e46e18adaf63713dff83c": {
          "model_module": "@jupyter-widgets/controls",
          "model_name": "FloatProgressModel",
          "model_module_version": "1.5.0",
          "state": {
            "_dom_classes": [],
            "_model_module": "@jupyter-widgets/controls",
            "_model_module_version": "1.5.0",
            "_model_name": "FloatProgressModel",
            "_view_count": null,
            "_view_module": "@jupyter-widgets/controls",
            "_view_module_version": "1.5.0",
            "_view_name": "ProgressView",
            "bar_style": "success",
            "description": "",
            "description_tooltip": null,
            "layout": "IPY_MODEL_aa1b1dc48ba9484baf140e07c191ecca",
            "max": 5148,
            "min": 0,
            "orientation": "horizontal",
            "style": "IPY_MODEL_c733d80fecb9449b94b8cedea6300f2a",
            "value": 5148
          }
        },
        "86fc4cdda83b4f4ab1efd8d8a1f01980": {
          "model_module": "@jupyter-widgets/controls",
          "model_name": "HTMLModel",
          "model_module_version": "1.5.0",
          "state": {
            "_dom_classes": [],
            "_model_module": "@jupyter-widgets/controls",
            "_model_module_version": "1.5.0",
            "_model_name": "HTMLModel",
            "_view_count": null,
            "_view_module": "@jupyter-widgets/controls",
            "_view_module_version": "1.5.0",
            "_view_name": "HTMLView",
            "description": "",
            "description_tooltip": null,
            "layout": "IPY_MODEL_3a315196a68c44c1bbfe18cb8da43cbb",
            "placeholder": "​",
            "style": "IPY_MODEL_2b8733a12dcf4fbdad1a07226c838b44",
            "value": " 6144/? [00:00&lt;00:00, 191769.58it/s]"
          }
        },
        "855d4a18e1874127a4e04c4dc5a9d31a": {
          "model_module": "@jupyter-widgets/base",
          "model_name": "LayoutModel",
          "model_module_version": "1.2.0",
          "state": {
            "_model_module": "@jupyter-widgets/base",
            "_model_module_version": "1.2.0",
            "_model_name": "LayoutModel",
            "_view_count": null,
            "_view_module": "@jupyter-widgets/base",
            "_view_module_version": "1.2.0",
            "_view_name": "LayoutView",
            "align_content": null,
            "align_items": null,
            "align_self": null,
            "border": null,
            "bottom": null,
            "display": null,
            "flex": null,
            "flex_flow": null,
            "grid_area": null,
            "grid_auto_columns": null,
            "grid_auto_flow": null,
            "grid_auto_rows": null,
            "grid_column": null,
            "grid_gap": null,
            "grid_row": null,
            "grid_template_areas": null,
            "grid_template_columns": null,
            "grid_template_rows": null,
            "height": null,
            "justify_content": null,
            "justify_items": null,
            "left": null,
            "margin": null,
            "max_height": null,
            "max_width": null,
            "min_height": null,
            "min_width": null,
            "object_fit": null,
            "object_position": null,
            "order": null,
            "overflow": null,
            "overflow_x": null,
            "overflow_y": null,
            "padding": null,
            "right": null,
            "top": null,
            "visibility": null,
            "width": null
          }
        },
        "477859d0414c404fb0c735f714db5a9d": {
          "model_module": "@jupyter-widgets/base",
          "model_name": "LayoutModel",
          "model_module_version": "1.2.0",
          "state": {
            "_model_module": "@jupyter-widgets/base",
            "_model_module_version": "1.2.0",
            "_model_name": "LayoutModel",
            "_view_count": null,
            "_view_module": "@jupyter-widgets/base",
            "_view_module_version": "1.2.0",
            "_view_name": "LayoutView",
            "align_content": null,
            "align_items": null,
            "align_self": null,
            "border": null,
            "bottom": null,
            "display": null,
            "flex": null,
            "flex_flow": null,
            "grid_area": null,
            "grid_auto_columns": null,
            "grid_auto_flow": null,
            "grid_auto_rows": null,
            "grid_column": null,
            "grid_gap": null,
            "grid_row": null,
            "grid_template_areas": null,
            "grid_template_columns": null,
            "grid_template_rows": null,
            "height": null,
            "justify_content": null,
            "justify_items": null,
            "left": null,
            "margin": null,
            "max_height": null,
            "max_width": null,
            "min_height": null,
            "min_width": null,
            "object_fit": null,
            "object_position": null,
            "order": null,
            "overflow": null,
            "overflow_x": null,
            "overflow_y": null,
            "padding": null,
            "right": null,
            "top": null,
            "visibility": null,
            "width": null
          }
        },
        "141d7c3832334ceda7576060f38d6ea1": {
          "model_module": "@jupyter-widgets/controls",
          "model_name": "DescriptionStyleModel",
          "model_module_version": "1.5.0",
          "state": {
            "_model_module": "@jupyter-widgets/controls",
            "_model_module_version": "1.5.0",
            "_model_name": "DescriptionStyleModel",
            "_view_count": null,
            "_view_module": "@jupyter-widgets/base",
            "_view_module_version": "1.2.0",
            "_view_name": "StyleView",
            "description_width": ""
          }
        },
        "aa1b1dc48ba9484baf140e07c191ecca": {
          "model_module": "@jupyter-widgets/base",
          "model_name": "LayoutModel",
          "model_module_version": "1.2.0",
          "state": {
            "_model_module": "@jupyter-widgets/base",
            "_model_module_version": "1.2.0",
            "_model_name": "LayoutModel",
            "_view_count": null,
            "_view_module": "@jupyter-widgets/base",
            "_view_module_version": "1.2.0",
            "_view_name": "LayoutView",
            "align_content": null,
            "align_items": null,
            "align_self": null,
            "border": null,
            "bottom": null,
            "display": null,
            "flex": null,
            "flex_flow": null,
            "grid_area": null,
            "grid_auto_columns": null,
            "grid_auto_flow": null,
            "grid_auto_rows": null,
            "grid_column": null,
            "grid_gap": null,
            "grid_row": null,
            "grid_template_areas": null,
            "grid_template_columns": null,
            "grid_template_rows": null,
            "height": null,
            "justify_content": null,
            "justify_items": null,
            "left": null,
            "margin": null,
            "max_height": null,
            "max_width": null,
            "min_height": null,
            "min_width": null,
            "object_fit": null,
            "object_position": null,
            "order": null,
            "overflow": null,
            "overflow_x": null,
            "overflow_y": null,
            "padding": null,
            "right": null,
            "top": null,
            "visibility": null,
            "width": null
          }
        },
        "c733d80fecb9449b94b8cedea6300f2a": {
          "model_module": "@jupyter-widgets/controls",
          "model_name": "ProgressStyleModel",
          "model_module_version": "1.5.0",
          "state": {
            "_model_module": "@jupyter-widgets/controls",
            "_model_module_version": "1.5.0",
            "_model_name": "ProgressStyleModel",
            "_view_count": null,
            "_view_module": "@jupyter-widgets/base",
            "_view_module_version": "1.2.0",
            "_view_name": "StyleView",
            "bar_color": null,
            "description_width": ""
          }
        },
        "3a315196a68c44c1bbfe18cb8da43cbb": {
          "model_module": "@jupyter-widgets/base",
          "model_name": "LayoutModel",
          "model_module_version": "1.2.0",
          "state": {
            "_model_module": "@jupyter-widgets/base",
            "_model_module_version": "1.2.0",
            "_model_name": "LayoutModel",
            "_view_count": null,
            "_view_module": "@jupyter-widgets/base",
            "_view_module_version": "1.2.0",
            "_view_name": "LayoutView",
            "align_content": null,
            "align_items": null,
            "align_self": null,
            "border": null,
            "bottom": null,
            "display": null,
            "flex": null,
            "flex_flow": null,
            "grid_area": null,
            "grid_auto_columns": null,
            "grid_auto_flow": null,
            "grid_auto_rows": null,
            "grid_column": null,
            "grid_gap": null,
            "grid_row": null,
            "grid_template_areas": null,
            "grid_template_columns": null,
            "grid_template_rows": null,
            "height": null,
            "justify_content": null,
            "justify_items": null,
            "left": null,
            "margin": null,
            "max_height": null,
            "max_width": null,
            "min_height": null,
            "min_width": null,
            "object_fit": null,
            "object_position": null,
            "order": null,
            "overflow": null,
            "overflow_x": null,
            "overflow_y": null,
            "padding": null,
            "right": null,
            "top": null,
            "visibility": null,
            "width": null
          }
        },
        "2b8733a12dcf4fbdad1a07226c838b44": {
          "model_module": "@jupyter-widgets/controls",
          "model_name": "DescriptionStyleModel",
          "model_module_version": "1.5.0",
          "state": {
            "_model_module": "@jupyter-widgets/controls",
            "_model_module_version": "1.5.0",
            "_model_name": "DescriptionStyleModel",
            "_view_count": null,
            "_view_module": "@jupyter-widgets/base",
            "_view_module_version": "1.2.0",
            "_view_name": "StyleView",
            "description_width": ""
          }
        }
      }
    }
  },
  "cells": [
    {
      "cell_type": "markdown",
      "source": [
        "![image.png](data:image/png;base64,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)"
      ],
      "metadata": {
        "id": "hy01I2WDtPN8"
      }
    },
    {
      "cell_type": "markdown",
      "metadata": {
        "id": "f9Xx-jP92OgP"
      },
      "source": [
        "# 파이토치(PyTorch)\n",
        "\n",
        "* 페이스북이 초기 루아(Lua) 언어로 개발된 토치(Torch)를 파이썬 버전으로 개발하여 2017년도에 공개\n",
        "* 초기에 토치(Torch)는 넘파이(NumPy) 라이브러리처럼 과학 연산을 위한 라이브러리로 공개\n",
        "* 이후 GPU를 이용한 텐서 조작 및 동적 신경망 구축이 가능하도록 딥러닝 프레임워크로 발전시킴\n",
        "* 파이썬답게 만들어졌고, 유연하면서도 가속화된 계산 속도를 제공"
      ]
    },
    {
      "cell_type": "markdown",
      "metadata": {
        "id": "3cxreguz2sL0"
      },
      "source": [
        "## 파이토치의 구성요소\n",
        "\n",
        "- `torch`: 메인 네임스페이스, 텐서 등의 다양한 수학 함수가 포함\n",
        "- `torch.autograd`: 자동 미분 기능을 제공하는 라이브러리\n",
        "- `torch.nn`: 신경망 구축을 위한 데이터 구조나 레이어 등의 라이브러리\n",
        "- `torch.multiprocessing`: 병럴처리 기능을 제공하는 라이브러리\n",
        "- `torch.optim`: SGD(Stochastic Gradient Descent)를 중심으로 한 파라미터 최적화 알고리즘 제공\n",
        "- `torch.utils`: 데이터 조작 등 유틸리티 기능 제공\n",
        "- `torch.onnx`: ONNX(Open Neural Network Exchange), 서로 다른 프레임워크 간의 모델을 공유할 때 사용"
      ]
    },
    {
      "cell_type": "markdown",
      "metadata": {
        "id": "gb5O_aSvtHvb"
      },
      "source": [
        "## 텐서(Tensors)\n",
        "\n",
        "* 데이터 표현을 위한 기본 구조로 텐서(tensor)를 사용\n",
        "* 텐서는 데이터를 담기위한 컨테이너(container)로서 일반적으로 수치형 데이터를 저장\n",
        "* 넘파이(NumPy)의 ndarray(다차원행렬)와 유사\n",
        "* GPU를 사용한 연산 가속 가능"
      ]
    },
    {
      "cell_type": "markdown",
      "source": [
        "![image.png](data:image/png;base64,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)"
      ],
      "metadata": {
        "id": "_tOMeSz4FBV2"
      }
    },
    {
      "cell_type": "code",
      "metadata": {
        "id": "CmKIvnx0s8G6"
      },
      "source": [
        "import torch\n",
        "#torch.__version__"
      ],
      "execution_count": null,
      "outputs": []
    },
    {
      "cell_type": "markdown",
      "source": [
        "### 텐서 초기화와 데이터 타입"
      ],
      "metadata": {
        "id": "5536ryWCJLFk"
      }
    },
    {
      "cell_type": "markdown",
      "metadata": {
        "id": "zPCIJ2pNteZv"
      },
      "source": [
        "무작위로 초기화된 텐서"
      ]
    },
    {
      "cell_type": "code",
      "metadata": {
        "id": "h6oPj2Q9tdYx",
        "outputId": "db5a34a5-c75b-4206-b875-aac06e4714dc",
        "colab": {
          "base_uri": "https://localhost:8080/"
        }
      },
      "source": [
        "x = torch.rand(4,2)\n",
        "print(x)"
      ],
      "execution_count": null,
      "outputs": [
        {
          "output_type": "stream",
          "name": "stdout",
          "text": [
            "tensor([[0.2058, 0.7451],\n",
            "        [0.5887, 0.5235],\n",
            "        [0.7989, 0.6313],\n",
            "        [0.0987, 0.3110]])\n"
          ]
        }
      ]
    },
    {
      "cell_type": "markdown",
      "metadata": {
        "id": "A5aHphIHtiJk"
      },
      "source": [
        "데이터 타입(dtype)이 long이고, 0으로 채워진 텐서"
      ]
    },
    {
      "cell_type": "code",
      "metadata": {
        "id": "4zykN8aMthXk",
        "outputId": "b82e094a-75aa-402d-89a0-817d7fd437b7",
        "colab": {
          "base_uri": "https://localhost:8080/"
        }
      },
      "source": [
        "x = torch.zeros(4,2,dtype=torch.long)\n",
        "print(x)"
      ],
      "execution_count": null,
      "outputs": [
        {
          "output_type": "stream",
          "name": "stdout",
          "text": [
            "tensor([[0, 0],\n",
            "        [0, 0],\n",
            "        [0, 0],\n",
            "        [0, 0]])\n"
          ]
        }
      ]
    },
    {
      "cell_type": "markdown",
      "source": [
        "사용자가 입력한 값으로 텐서 초기화"
      ],
      "metadata": {
        "id": "Yz-ajmrbJYK8"
      }
    },
    {
      "cell_type": "code",
      "metadata": {
        "id": "W4VL8C_ctu8b",
        "outputId": "13adb562-badf-48a8-bd96-4fb81282bbb3",
        "colab": {
          "base_uri": "https://localhost:8080/"
        }
      },
      "source": [
        "x = torch.tensor([3, 2.3])\n",
        "print(x)"
      ],
      "execution_count": null,
      "outputs": [
        {
          "output_type": "stream",
          "name": "stdout",
          "text": [
            "tensor([3.0000, 2.3000])\n"
          ]
        }
      ]
    },
    {
      "cell_type": "markdown",
      "source": [
        "2 x 4 크기, double 타입, 1로 채워진 텐서"
      ],
      "metadata": {
        "id": "Ek36NtuFOvfM"
      }
    },
    {
      "cell_type": "code",
      "metadata": {
        "id": "4RmVBVtIt46M",
        "outputId": "65ad451c-4202-48ac-ea7c-e1e75c87572c",
        "colab": {
          "base_uri": "https://localhost:8080/"
        }
      },
      "source": [
        "x = x.new_ones(2,4,dtype=torch.double)\n",
        "print(x)"
      ],
      "execution_count": null,
      "outputs": [
        {
          "output_type": "stream",
          "name": "stdout",
          "text": [
            "tensor([[1., 1., 1., 1.],\n",
            "        [1., 1., 1., 1.]], dtype=torch.float64)\n"
          ]
        }
      ]
    },
    {
      "cell_type": "markdown",
      "source": [
        "x와 같은 크기, float 타입, 무작위로 채워진 텐서"
      ],
      "metadata": {
        "id": "h8yuVNudPG7N"
      }
    },
    {
      "cell_type": "code",
      "metadata": {
        "id": "xxskTUfGuPUe",
        "outputId": "d88f6363-5418-4725-9bc7-76fcacf1f05a",
        "colab": {
          "base_uri": "https://localhost:8080/"
        }
      },
      "source": [
        "x = torch.randn_like(x, dtype=torch.float) # 기존과 같지만 타입 변경\n",
        "print(x)"
      ],
      "execution_count": null,
      "outputs": [
        {
          "output_type": "stream",
          "name": "stdout",
          "text": [
            "tensor([[ 0.1898, -1.7862, -0.2382,  0.5512],\n",
            "        [-3.0006, -0.3524,  0.3529,  2.9490]])\n"
          ]
        }
      ]
    },
    {
      "cell_type": "markdown",
      "metadata": {
        "id": "7j5sGxGvucpH"
      },
      "source": [
        "텐서의 크기 계산"
      ]
    },
    {
      "cell_type": "code",
      "source": [],
      "metadata": {
        "id": "gc3FRmThwUNW"
      },
      "execution_count": null,
      "outputs": []
    },
    {
      "cell_type": "markdown",
      "source": [
        "### 데이터 타입(Data Type)"
      ],
      "metadata": {
        "id": "3P2FbRqbFSks"
      }
    },
    {
      "cell_type": "markdown",
      "source": [
        "| Data type | dtype | CPU tensor | GPU tensor |\n",
        "| ------ | ------ | ------ | ------ |\n",
        "| 32-bit floating point | `torch.float32` or `torch.float` |`torch.FloatTensor` | `torch.cuda.FloatTensor` |\n",
        "| 64-bit floating point | `torch.float64` or `torch.double` |`torch.DoubleTensor` | `torch.cuda.DoubleTensor` |\n",
        "| 16-bit floating point | `torch.float16` or `torch.half` |`torch.HalfTensor` | `torch.cuda.HalfTensor` |\n",
        "| 8-bit integer(unsinged) | `torch.uint8` |`torch.ByteTensor` | `torch.cuda.ByteTensor` |\n",
        "| 8-bit integer(singed) | `torch.int8` |`torch.CharTensor` | `torch.cuda.CharTensor` |\n",
        "| 16-bit integer(signed) | `torch.int16` or `torch.short` |`torch.ShortTensor` | `torch.cuda.ShortTensor` |\n",
        "| 32-bit integer(signed) | `torch.int32` or `torch.int` |`torch.IntTensor` | `torch.cuda.IntTensor` |\n",
        "| 64-bit integer(signed) | `torch.int64` or `torch.long` |`torch.LongTensor` | `torch.cuda.LongTensor` |"
      ],
      "metadata": {
        "id": "JD-cPneYGaa7"
      }
    },
    {
      "cell_type": "code",
      "source": [
        "ft = torch.FloatTensor([1,2,3])\n",
        "print(ft)\n",
        "print(ft.dtype)"
      ],
      "metadata": {
        "id": "K-tmT3EZFSM5",
        "outputId": "f66ab84e-d14b-4c50-bf1b-98fa539f5263",
        "colab": {
          "base_uri": "https://localhost:8080/"
        }
      },
      "execution_count": null,
      "outputs": [
        {
          "output_type": "stream",
          "name": "stdout",
          "text": [
            "tensor([1., 2., 3.])\n",
            "torch.float32\n"
          ]
        }
      ]
    },
    {
      "cell_type": "code",
      "source": [
        "# 데이터 타입 바꾸기"
      ],
      "metadata": {
        "id": "bhsaSQW-NrB2"
      },
      "execution_count": null,
      "outputs": []
    },
    {
      "cell_type": "code",
      "source": [
        "it = torch.IntTensor([1,2,3])\n",
        "print(it)\n",
        "print(it.dtype)"
      ],
      "metadata": {
        "id": "TPQI3gc5OmBe",
        "outputId": "c21e51ce-0a0c-4d51-95a6-5797614b5a48",
        "colab": {
          "base_uri": "https://localhost:8080/"
        }
      },
      "execution_count": null,
      "outputs": [
        {
          "output_type": "stream",
          "name": "stdout",
          "text": [
            "tensor([1, 2, 3], dtype=torch.int32)\n",
            "torch.int32\n"
          ]
        }
      ]
    },
    {
      "cell_type": "code",
      "source": [],
      "metadata": {
        "id": "3MdKv0kRvhyW"
      },
      "execution_count": null,
      "outputs": []
    },
    {
      "cell_type": "markdown",
      "metadata": {
        "id": "v-ZaxSvLxEej"
      },
      "source": [
        "### CUDA Tensors\n",
        "\n",
        "- `.to` 메소드를 사용하여 텐서를 어떠한 장치(cpu, gpu)로도 옮길 수 있음"
      ]
    },
    {
      "cell_type": "code",
      "source": [
        "x = torch.randn(1)"
      ],
      "metadata": {
        "id": "opPXR8kpPjRc"
      },
      "execution_count": null,
      "outputs": []
    },
    {
      "cell_type": "code",
      "metadata": {
        "id": "GcSsFLkDw-nI",
        "colab": {
          "base_uri": "https://localhost:8080/"
        },
        "outputId": "4373679b-c5c7-4b8b-c2ec-bef2c5986e5a"
      },
      "source": [
        "device = torch.device('cuda' if torch.cuda.is_available() else 'cpu')\n",
        "print(device)"
      ],
      "execution_count": null,
      "outputs": [
        {
          "output_type": "stream",
          "name": "stdout",
          "text": [
            "cuda\n"
          ]
        }
      ]
    },
    {
      "cell_type": "code",
      "source": [
        "y = torch.ones_like(x,device=device)\n",
        "print(y)\n",
        "x = x.to(device) \n",
        "print(x)\n",
        "z = x + y\n",
        "print(z)\n",
        "print(z.to('cpu', torch.double))"
      ],
      "metadata": {
        "colab": {
          "base_uri": "https://localhost:8080/"
        },
        "id": "LkMZajhGPYtR",
        "outputId": "1da1e9db-8c9c-42f8-9be4-8aefd416ca0c"
      },
      "execution_count": null,
      "outputs": [
        {
          "output_type": "stream",
          "name": "stdout",
          "text": [
            "tensor([1.], device='cuda:0')\n",
            "tensor([-0.6471], device='cuda:0')\n",
            "tensor([0.3529], device='cuda:0')\n",
            "tensor([0.3529], dtype=torch.float64)\n"
          ]
        }
      ]
    },
    {
      "cell_type": "markdown",
      "source": [
        "### 다차원 텐서 표현"
      ],
      "metadata": {
        "id": "E3bfPFZIV4aj"
      }
    },
    {
      "cell_type": "markdown",
      "source": [
        "0D Tensor(Scalar)\n",
        "\n",
        "* 하나의 숫자를 담고 있는 텐서(tensor)\n",
        "* 축과 형상이 없음"
      ],
      "metadata": {
        "id": "EQRQbW2QGdnX"
      }
    },
    {
      "cell_type": "code",
      "source": [
        "t0 = torch.tensor()\n",
        "print(t0.ndim)\n",
        "print(t0.shape)\n",
        "print(t0)"
      ],
      "metadata": {
        "id": "cWxkCkqwGgpU",
        "colab": {
          "base_uri": "https://localhost:8080/"
        },
        "outputId": "050869bd-7618-4273-ba81-b19efe1dc4c0"
      },
      "execution_count": null,
      "outputs": [
        {
          "output_type": "stream",
          "name": "stdout",
          "text": [
            "0\n",
            "torch.Size([])\n",
            "tensor(0)\n"
          ]
        }
      ]
    },
    {
      "cell_type": "markdown",
      "source": [
        "1D Tensor(Vector)\n",
        "\n",
        "* 값들을 저장한 리스트와 유사한 텐서\n",
        "* 하나의 축이 존재"
      ],
      "metadata": {
        "id": "IYsTz-1AG3Mb"
      }
    },
    {
      "cell_type": "code",
      "source": [
        "t1 = torch.tensor()\n",
        "print(t1.ndim)\n",
        "print(t1.shape)\n",
        "print(t1)"
      ],
      "metadata": {
        "id": "CYECTmxJG45C"
      },
      "execution_count": null,
      "outputs": []
    },
    {
      "cell_type": "markdown",
      "source": [
        "2D Tensor(Matrix)\n",
        "\n",
        "* 행렬과 같은 모양으로 두개의 축이 존재\n",
        "* 일반적인 수치, 통계 데이터셋이 해당\n",
        "* 주로 샘플(samples)과 특성(features)을 가진 구조로 사용"
      ],
      "metadata": {
        "id": "WTjPrjjQITQe"
      }
    },
    {
      "cell_type": "markdown",
      "source": [
        "![image.png](data:image/png;base64,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)"
      ],
      "metadata": {
        "id": "BUuWONgNIs3O"
      }
    },
    {
      "cell_type": "code",
      "source": [
        "t2 = torch.tensor()\n",
        "print(t2.ndim)\n",
        "print(t2.shape)\n",
        "print(t2)"
      ],
      "metadata": {
        "id": "vXnrqjqJIXEG"
      },
      "execution_count": null,
      "outputs": []
    },
    {
      "cell_type": "markdown",
      "source": [
        "3D Tensor\n",
        "\n",
        "* 큐브(cube)와 같은 모양으로 세개의 축이 존재\n",
        "* 데이터가 연속된 시퀀스 데이터나 시간 축이 포함된 시계열 데이터에 해당\n",
        "* 주식 가격 데이터셋, 시간에 따른 질병 발병 데이터 등이 존재\n",
        "* 주로 샘플(samples), 타임스텝(timesteps), 특성(features)을 가진 구조로 사용 "
      ],
      "metadata": {
        "id": "s3iwkNVBIxYE"
      }
    },
    {
      "cell_type": "markdown",
      "source": [
        "![image.png](data:image/png;base64,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)"
      ],
      "metadata": {
        "id": "hkit1B72IzkO"
      }
    },
    {
      "cell_type": "code",
      "source": [
        "t3 = torch.tensor()\n",
        "print(t3.ndim)\n",
        "print(t3.shape)\n",
        "print(t3)"
      ],
      "metadata": {
        "id": "n_82nuaxI1Pk"
      },
      "execution_count": null,
      "outputs": []
    },
    {
      "cell_type": "markdown",
      "metadata": {
        "id": "iO4r7sEsW1Hp"
      },
      "source": [
        "4D Tensor\n",
        "\n",
        "* 4개의 축\n",
        "* 컬러 이미지 데이터가 대표적인 사례 (흑백 이미지 데이터는 3D Tensor로 가능)\n",
        "* 주로 샘플(samples), 높이(height), 너비(width), 컬러 채널(channel)을 가진 구조로 사용"
      ]
    },
    {
      "cell_type": "markdown",
      "metadata": {
        "id": "4ZOsswVjWBid"
      },
      "source": [
        "![image.png](data:image/png;base64,iVBORw0KGgoAAAANSUhEUgAAAQgAAADlCAYAAACvW2kXAAAgAElEQVR4Ae2dPawlxZXHXzjhhISEhIToRQ4JCR0SPRESkpHsMmZsiyd7tePha2ytvcOsLGN78AOjBSQnRBaSZa1tzQoCZIPWAc5YbdKr331z3tRtquuju+rcvvf+S7rqvlXVdapP1/n1qY/uPhkUpIE91MDX//t/w+17Hw7/dOuXLr/vvfkbFzmcj6csdJgKJ6lEpUkDa9QAcPjxL343/P6Pnw2ffv4/XX9/+Mvnw/lP3js4WX/+9G/Da/9xCdjUNRYgUtpR2uo0IDgsB6LB4Wc/v9h4RamLLECktKO0VWlAcGgLh5//6j0BYlUtXJWZrQHBoT0cBIjZzVEHrkkDgkMfOAgQa2rlqsssDQgO/eAgQMxqkjpoLRoQHPrCQYBYS0tXPao1IDj0h4MAUd0sdcAaNAAcPBcLvfz6O26LoDxlfefVXw9MZQKCqR8Ls1JB05wp7SjNXQPyHNp4Drff+mADvSkwWLwA4d7EJXCuBgSHdnCwRVAGgqmtADG3teo4Vw0IDm3hABAw/ikwWLwA4drMJWyOBgSH9nAQIOa0RB2zOg0IDn3gIECsrqmrQrUaEBz6wUGAqG2Nyr8qDQgOfeEgQKyquasyNRoQHPrDQYCoaZHKuxoNAActglr+FqzSRVCAIvXTLMZqTEMVkefQznMoncJMwcG8jFTL1ErKlHaU1kwDgkM7ONQsghIgmjVhFdRLA4JDWzjYnb/E+EvypK67PIiUdpS2WAOCQ3s4CBCLm6UKWIMGBIc+cBAg1tC6VYdFGhAc+sFBgFjUNHXwrjUgOPSFgwCx6xYu+bM1IDj0h4MAMbt56sBda+D2vcsXlTBP3/v38mv3u8uwc/CUhcySN0EBitSPclLp995+d3jp9q+STUazGEn1KLFWAzTK//rvv7r8DllWyrBJyxl/Lg9w+P4bl4BNXWMBIqUdpVVr4JCN1hN8PQFhcLjz1uUHiVMXWYBIaUdp1RoQIJZ7T0u9A4NLrJwQDuZlpC6yAJHSjtKqNSBArBcQYzgIENXNWwcs1YAAsU5AxOAgQCxt7Tq+WgMCxPoAMQUHAaK6eeuApRoQINYFiBQcBIilrV3HV2tAgFgXIJjKZLYCGMR+XK9U0CBlSjtK29IAqyRv3/vQbXHSd9+8nIajEff+ecr64U/fT64T4VxjxhzG5fLgOfzzj36ZhAPlUU4qCBAp7SjtSgNaQt1uCTVGmVpTkTN+M+wQGOG+dStKy7m6yJEdASKiFEVta0BwaAcHextUL0AYHGwRVAiO2L48iO22rn+VGhAc2sIBI+3lQYRwMDkxKIRxAkSlQSj7Iw0IDu3hYIbb2oMYw8HkhDCI7QsQj9q79io0IDj0gYMZbktAxOBgcmJQCOMEiAqjUNZLDQgO/eBghtsKEFNwMDkhDGL7AoSsvkoDgkNfOJjhtgBECg4mJwaFME6AqDKP8syfffbZ8NVXX5UfsAc5BYf+cDDDbQGIkkVQIQxi+wJEJ8O8cePG8OSTTx4MJICDPom3fEFW6SfxlgACz6F0EVQMCmGcANEJEBT74osvHgQk5Dm08xwwuNAAY/vkmQsI61aUyonJD+MEiI6AOARICA7t4GCLoEIDjO3PBYTBoWYRVEx+GCdAdAYExd+5c2d44oknBsYl9ikIDm3hgOGV3tlrPYgQDjVyQhjE9gWIDhZ79+7d4bHHHhuuX78+sE8AEo8//vjeQEJwaA+HGsOtAcQYDjVyYlAI4wSIxoD405/+NDz99NObwcm33357AwUTASRu3bplf1e7FRz6wKHGcEsBEYNDjZwQBrF9AaKxmeIxvPDCCxtP4Vvf+tZm+/XXXw+ffPJJY0l9ihMc+sGhxnBLADEFhxo5MSiEcQJEYztjnIGuhMGB4pnylOewbXh/+Mvnw/lP3ht+/8fPhk8/305r/d9T1p8//dtw+60PJj9sg8GFBhjbJ08OECk4UGapnJj8ME6AaAwIisOLABJAAW+CLsfagzyH5ZDKwaHGcHOAaLUIKoRBbF+AWGi5dB2Yobh27doGBlYcngTrIPbFc9AiKL9FUDFDDOMwytSPz+GlXhNHWRwflhnbz+XBS9Gn98yiZ26fe+65zfgCy6rxFJ599tmZJe3mMHkO7TyHnMHVGG7Og4gZfBi3tC7WhaGcVNAbpRLaeeaZZ7ZmKRiM3CdICA7t4FCzCCo05Ng+RrlLQBgcbMFVwgQGASKhHbyGp556astrABJ0LdiuOQgObeGAoS+9axssdgmIEA52Tql2LECktDMMGxDsk9fA6QgO7eFgxmRGPrUthcguPIgxHOycUiYgQATa+eKLLzYDkicnJwNjD+YlWNeC6cy1B8GhDxzMmKbAYPFrBUQMDnZOqTYtQATaAQBMYdK1+Pa3v70Zbwghsfb3PwgO/eBgxmQgmNquERBTcLBzCkzgG7sCxEOVsJ6B9zuED1wxY0H3wiDxDe2tKEJw6AsHM6YpMFj82gCRgoOdU6oZCxAPtQMEmLUYAwFw0PVYcxAc+sPBjMlAMLVdGyBKFlyl2rYAMdLOPnkNVvXb9z5ILryh0bb6vfza/WZl5erkKYu6MJU5ZfitAMEdncVJvQcpkVP61ilrR7Ht0QICj4ExBwYjxx4CkGAMYl8CjTvV4FqmHbKsFBxaAMLc/ZwOSV9Sl1BOSTmpdn60gAAAr7zyygYSsfc4hGMRKQXWpAGljz76aPNjLQWAaiEn1+AEiPwXt5capRniVDlmtLY4KXVNpsowGWyn8ozlhMfE9iknFY4SELzTgfEGAgZrKyZ7PrLN7AhPgLI1SLBljAP5PNMxd5aEi5xqcC3TDllWzIDCuCmjzOUJjZa8OR22lBPWLbaPrFQ4SkBwJ6dbwc8GJTFUPAnSwoDRfvzxx2FU1T7HIwNvJRWABQCZIyvX4ASI3XkQYzj0AsSUnBgUwjgBImGVvAHq+eef3+QwUMSy22PdsbRUHHDA6Es9E+DE+Afdj5ogQOQBkIMkOgwNJ7ZfmydmtJSbu14t5cTOI4xDViocrAeBdxCuhsToWCHJ2IO58mx5lJt3SwKLVKAbwHMZ4wHNqWNq4RCWQ11KocJxuQaXM46a9EOWFRpObL/GcKfgQLk5HbaUEzuPMA5ZqXCwgOCkbcqSgUCMG6MFFLFByZSSSAMMHIdHgAGPuyLh8XQTajyH8Ng5+7kGVwOAXN5DlhUaTmy/1HBTcKDcnA5byomdRxiHrFQ4aEBw4kACww7ddgx8DiRsUJHj8SgomxfXhoOOeCiMZ5iXklJ+q7Rcg8sZfU36IcsKDSe2X2q4JYuTUjpvKSd2HmEcslLh4AHByWOw48/kYeT8agNgsIBXweAj8LFfi2lLK58tqyRv3/twc9fhYvb+/eDffjv8y8/e7y6H83j59Xdc5CDrhz99PznTQ57QcGL7uTx4DqWLk5YAokZO7DzCOM4pFQ4WEO++++4GCmwJGPAYEinFTKWxdgGPwSN4LqHmfYu3/v0/h++9edH9RbPIevXeh93l8HJce48khrDEKDGqFCCsW5HKY4a5pC61ckzm1Ja6pMJBAgL3ni7E2M1nNgJIpMYPUsoiDQ+Bwc/eYRdw+MFPDhMO9jaoXoAwo7VFUFPGaPFzATFHjsmc2h4lIBgkBARhIA5gzFlnEJbDfu9l2IJD+4ev5hplaFiUEf5nPzRa/sfyjI+ZU5e5csayx/+pSyocpAfBCTN9GS5OwqhbwIGymaHoFQSH9nAww23tQYyN1uSMjXD8vxYQS+SMZY//Hy0g6AoACQYV6RKwEKpFsMVMLcoalyE49IEDRlFrlGNDsjIsPma04zyWd7ytqctSOWPZ4/9HCwiMjy4FMxV4EkvGHUJDxgthVqR1EBz6wQGjqDHKsRHZf8pgf8poTY7ln9qW1qWFnKk6WPxRA6K1EVMeHknpaspS+YJDXzhgDKVGaYYT21JGymhNTuzYMK6kLq3khHJj+wJEqZUW5MMbaf0lLcGhPxwwjBKjjBlQGEcZJYugwmNi+yV1aSUnJj+MEyAKDL8kC+spwkVSJcfk8gAHfRJv+eKv77z666K3QS0ZpOSOXroIKjTA2D5Gmfp5fnrv5uv3k830YGcxkmddmQgcmAVpNY6BeE/Pwfvr17tYBBUzxDCu5K4d5g/3zd2njDA+tl+aZwmskFsqJ1ZH4jinf/3Zb4cv//6PpDUIEEn1DANwaL0wSnBo260oNZY5RmlwqFkENWWUFk9959TFjmdbes7hMbZfCgdMQ4BIAIKp0h7dih//4ncuy4wP3XOwl8yWGkutUYZwWGqUZpxWTm1dwuOtjHHc+H9MLzVwECAScCCp9YyFPIe2noMZRMwQLM225KkxyjEcKKdUjsmc2tbWJVbOnLrUwkGASACCx7h5MKtVEBz6wKHGcEsBEYNDjZyYQYdxuwBECRxi64XUxZggAE9/1rzVaaKYTbTg0A8ONYZbAogpONTICWEQ2/cGRAkcaKg8pcw7TsIgQITaCPYZmGzxbgfBoS8cagw3B4gUHGrkxKAQxnkCohQO1vS5MeI9WxAgTBOjLSRdOq0pOPSHQ43h5gDhuTgpV5cQKLH90jGIkqnMUdPfGnsTIMbaefif5y34fsbcABw8F0HdePW+2xuaPN8EVboIKmZEYRwGlfp5Lk7y+vTeSz/6ZXadQ6x9M7VvK4YFiJiGHvbHcLfmBE/P4RjeBBUaemy/9G7qddeO1ZE468JQ3551qe1WjNs4nrM9/SxAjLUT/J+zBmIXcDj0N0FNGZzF7wMgDA624KoXIJbCwZq/jcEJEKaRyBYl1bxkRnBoP+ZQavwGi6lt77u2yY3VN4QD+XrVpRUcMAUeTGRWQ4CIgMGieJ8Eb48qGawUHNrDwYzJjG9qGzPKcd5eRhmTE8aN4UBaj7q0hAPtn+61AGEkSGxjc8Pj7IJDHziYMYUGF9tfKyBicLBzatnFaA0HAwSD9PIgxtYe+c+MxtRLYgSHfnAwY4pBIYxbIyCm4GDn1AoQPeCACfD0Mh60ABEBQmmU4NAXDmZMIQxi+2sDRAoOdk4tANELDoy72UetBYhSGozyCQ794WDGFINCGLc2QJQsuGoBiDmLoEbNOPo3/NK9ADFSEcurGcFlkIYByvHadMt++94HyYU3NNqWv++/6fOZupdfu9+03jkd2CPbocGH+6XGHx4z3udO67U4qfStU0sAsTmfmYugrP1ObWnvd+/evUoWIB6qAjCgHL7IxdZGcaeex6Dhpi5yyzQzspZlTpXlfV5jYx7/XwoIc/dz59VSzvgcxv+X1KVXtwIzoN1zcwyDADEMm/4WYBgrJ1TUeD93kacMcE48srzkeclBD8gaG8/4/5I8BgePxUnWrSitb6odTJXREw4MxMfa/9EDAsXwqw1cxNRFbpmGLC95XnJ6AyKEA9DJnRfpYziN/8fyxOSMjxv/n1OXnnDAW47BAZs4akDwQMrc903mLrIA8dcsQGMGFzOmcdz4/7icsdGSP3e9xmWMZVgZYfyUnDBPbL+2LruCw1EDgpfBjD/wW+NF5C6yALEbQMSM1ow7dU1qAZGSE4NCGJdrO2FdesMh99a0o/UgWAgSjtbWwIG8uYucaoy1acjykuclBx0gKzSc2H5NnimjpdzcebWUEzuPMK60Lr3hQNciF44WEHzYd8n7HnIXuRYCqfzI8pLnJac1IFJwaAmIEjkhDGL7OR2T3hMOvHuyBA7A42gBce3ataKHsKYIm7vIKYOvTUOWlzwvOa0BYbMIMYNsCYgSOVN1sPicjknvtQiKwchSOBw1IE5OlrExd5FrIZDKjywveV5yWgGCO63X4qRSOQaCqa1dz6ntzTfemfUmqKmbmcXXwkGAMM3N2Hobkpc8LzktAGHuPnWeMkaLz51XqoxaOSZzaoss7wAc7PmKGtnLbqM1klaWVx5EfJYhZ0gpT6c2LWWUZlxTecxobRGU5Z/a5s6rpZypOlg8sjwDcGCV5JwgQMzRmmYxsmscSmAxZZRmSGxjeUI4TOUJy7A8qTq1lDOWPf7vCQheYT8XDpiGACFAbBk7jTdlSC3TYkYZM6YwbgwH0krLSdV9XMYSOWF9Y/vI8ggtPjwtQMy8UlzkVINrmYYsL3lectAPsmIGFMaFeWJGS94wT3hsuJ87r7CMpXJCubF9ZPUOLeBAHQWImVcq1+AEiPgYR6iX0ChjhkSc5Zky2jDPVBmWJ5Q93m8pJ1UPq8vMZld0GHBgIWCLIEDM1KIAkQfA2AjH/80oUwZFnhQczOBSZViesfzwf0s5JXWZ2eyyhwEHPtdQ8qLlbGHyIEpUFM8jQPgBwmtxUis5uwIEL1huCQdavjyIuP1nYwWI/oDAc/BanOT56b2br9/Ptq/aDDx8SLeiledg8gUI00TlVoDoCwjrVqDnkjtySZ6wSzHebylnqi6cU48l1L3ggEkIEJVgsOwCRD9AGBxqFkFNGaXF565Xb0D0hEPrboW1cQEi1ETlfq7Bje9QS/4jy0uelxz0gSwzYNuGcCAulsfy2rY0T+oalJZhMqe2sXJ6woEXK/P9il5BHsRMzdIQUg2uZRqyvOR5yYkBYgwHjJD6TBmjxZfmSV2T0jJM5tR2XE4vOPCqgt5wwDQECAFiC3Q08JQhtUwLjSkGB4wwzFNqlLF8ufNqKcfk94IDb1qnW9HTczCzECBME5XbXINrbUhe8rzkoB8zyik47DMgDgEOmIQAUQkGy+5tSF7yvOQYIFJw2FdA9IQDX73y8BysnQsQponKrbchecnzkmOA8FyclPLqOG/rGkxtS/P0mMqkW8GYw9SHnCqbb3F2AaJYVdsZb9z+1cZFptH0/rGIh19vOZTvJcdkMZU5ZZCtPAju6JxXb0Bs5HT4JN6u4ECLFyC27b74Hw081eBaphkYWpY5VZb3eaXg0AIQ1oXJnRfpS+rSq1tBd4IBSW/PwQxBgDBNVG5zDW7KAOfEI8tLnpcc9ICsJUZpx06VY3CwBVcp3U+VYTLYTuU5VDhgEgJEJRgsO40l1eBapiHLS56XnN6ACOFgxp26Jpx3CIPYfizPIcNBgDBrn7H1NiQveV5yegJiDIdegOgJBwYkecZi10EexMwr4G1IXvK85PQCRAwOPQBxDHDANAQIAWKrq7TPgJiCQ2tA9IIDj2rzyPYaPAczi6MEBCPD169fNx3M2nobkpc8LzmtPYgUHFoC4pjggGEUAOJiODs5Gy5mmNHF2clwev4gc+T88jMFTybzKnCmjpYEb0PykuclpzUgShZcIXPqx3kDktSPPD0WQa3RczDb6AoIE5LeTgHiwXB+ejpk+ZIuPJrKclXe3bckeBuSlzwvOa0AwR299K1TU3AoqQtyXuqwCAo4cLNa2h6XtOXUscWAOD8/HfgaFb+z0J14cD6cPownLfQYHpyfBv8x+Mvjt8u5BMR2+aO8WwJTp5NPe+6554Zbt27lM2ZyeBuSlzwvOSVGaV2Dqbu6dSuo81Qei8+dV6qMnt2KNcMBEygERGD4AOH0fLjsOIzv/tt3/S1AXJwNJ2bo4f5AGbHyt8vK2Gs2mXEHvk1Y82XjVKG5Bpe6W9WmIctLnpecpYAwONgiKAPB1DZ3XqTHju0FB9oW7XGtnoO1/UJAhGMQARRG3sO2ZzAM5YCIld8GELhwr7zyyvD4449vtnbiS7e5BlcLgVR+ZHnJ85KzBBAhHDBq6hwz7jAud16xMnrCgaXTrb5dEbblL774ounTnssBceVNhNW83N8CxBZMwrGFADibw+z/PEAwAImXgOvGYpNr165tSN36Edlcg0sZfG0asrzkecmZC4gxHHoBoiccaObAofXzFbz2/qmnnhrYtgrLALHpHoTGvl2tEBDsWw9jO5cBwWLt/zxA4LYZGPBoAEVLhVktvQ3JS56XnDmAiMGhByB6w4E2RBttHYADHjOBtRQtALQQEAP9iK1BypNgSjQExMC4QzCYeXLleRgQTF2P/nP85pg4WeyAyS1eAx4FFwNQtFyA4m1IXvK85NQCYgoOrQHhAQcabI/uBWUCCbrTtPnHHnts4N2VS0IBIJYU/+hY1kQ8svN53sGj0ur3AAXKazUo5G1IXvK85NQAIgWHloDwggPjBM8++2x9I44cgZfAGBsgwHvAWzbP4YUXXtjcICOHFUe5AeIbnsYjWhRXdmlGPArI2sKT8DYkL3lecmoAUbIIClCkfrnzIr3HIqhYm6UdtvAgPv744+HJJ58cAAHewp07dzbiAAVT+bR163LE6lES5weIkto45IHeeBJG2bkicw0OA2j1Q5aXPC85JYDgjl66CCoFB/MyTI+x7c033hm+/Ps/5jaH6uMARI3xkhcghIFuM57D+MZHHF4F8UvD0QEChaE8BjOXBG9D8pLnJScHCOtWUJ8S4y/Js+R6tz6Wuz3d3tKA0eMlhF1kWxEcesXM4LUAg9XrKAGBF4GylwRvQ/KS5yUnBQiDQ80iqDUC4u7du5spd7wFjJhxB6CANzCnm0HXOIQE4w0M4iOHADyARstwlIBAgSh2SfA2JC95XnKmABHCwboGJcZfkmfJ9a45FkPG/bfBQzuWGxNjAwCDH16sjRtYntx2DAmAAzQAEL+W3gN1WWYlubNZcboAER8j2SUgxnDYR0Bg8Bg/MEgFxsC427OQj+5DLlAeHgPexxgSHLt0TG1KvgAxpZlMvLchecnzkjP2IGJw2DdAAIfa6csbN25sZiJSA5YA4Yknnth4CLzHBFDEIJFpsrOSBYhZahvcZhXMkLwM10uOnRcQmILDPgGC/n8tHKzpMTsBKGIBz4EnkM1DQA5dCuKBBGk9gwAxU7vehuQlz0uOASIFh30BBEa71FDxIGJeBOMUeA1hGnGsffAIAsRMLXsbkpc8LzkGiFaLoIBJ6sd59Qgt4JCrF54J4xUGCbyNVq8tyMkWIHIamkjXp/cuF29heHN/fA7P69N7N1+/P3El50cDB2YrzHDnl7R9JF0OABAOXgIJG4cIH8raPrL9PwFipk6977Re8rzkmAeRuuu36GLQhemxhBoj7gEHxhYAgS2fBkIWxp6ExffcChAztettSF7yvOR4AKIXHBgcZCqztefAGgbWSdgrEWMzFd6QECAEiK1nRg4FEPsGBzwS1kSwPiccXzBIkG4BgLSGk5U93goQY40U/vc2JC95XnJ6ehA94cBqxdbGSbcCj4SpTMYdeJ9DuMKS+NYyC5u5VlKWKmqcz9uQvOR5yekFiF5wwHB7LGWmXQEHvAcLAGEMCUvz3sqDmKlxb0PykuclpwcgesEBg2VAsvVzDtb08A6YxmR8wQIyw/8W770VIGZq3NuQvOR5yWkNiH2FgzW/GCQsbZdbAWKm9r0NyUuel5zWgOgxlcldvEe3gmcpmMrEawi9EoMET4GuJQgQM6+EtyF5yfOS0woQeA49PolncGDbMjCWwWviAAOzFbZvMoAEv7UEAWLmlfA2JC95XnJaAKJXtwLjZcyhNRxoaiyTtse2kRGDxMwm2eUwAWKmWr0NyUuel5ylgNhHOIRNjW6EvQmKpdNeD1+FdSjZFyBKtBTJ421IXvK85CwBRE84MC7Q2nOgvPC5CpoTcljwxFLqNcxWRJr4JkqAmNJMJt7bkLzkecmZC4iecGBAkpWLLQMrIGPlIof4ntOnLc5DgJipRW9D8pLnJWcOIHrBwWYPWsOBpgUAzHvg/ZHhw1czm57rYQLETHV7G5KXPC85tYDoCQdWMvaAA02LbgRTmqyMpCvBfs3r7mc2z2aHCRAzVeltSF7yvOTUAGJf4WBNi26GrXdgFsOe1rT0NW8FiJlXx9uQvOR5yakBRI9FUHQrcP+9XH4AARwYd1jTOodc8xcgchqaSPc2JC95XnJKAIHn0GMRFJfUEw7IAwo8oblPcKDeAsQEAHLR3obkJc9LTg4QvboVXFdeMOvlOeTa0drTjxYQDBotme/2NiQveV5yUoAQHNaDjaMFBAtVltxFvA3JS56XnClA9IQDswi2enE9JrjumhwtIJhqoh86N3gbkpc8LzkxQPSGQ/iWprnX/diOO1pAcKEBxNw5aW9D8pLnJWcMiJ5w4IEowWEe2o4aEIwoM+0UvhC0VI3ehuQlz0tOCAjBobTV+ec7akCgbuanWd3G58x4eWhp8DYkL3lecgwQveGwppevlLatNeU7ekBwMfAkaEjMbNgUWM6r8DYkL3lecgwQPRZBcU3pVvBTWKYBASLQH6BgGSwzHDyjzzcK6ILEwnff+M3sT85hhDW/m2+8M9x8/Z2qY2rKD/PyObzwf899zuvLv/8jpt5FcVxDwWGRCq8OFiCuVKGdQ9AAg5GCQ7srKUC006VK2rEGgMNa38y0Y9XMFi9AzFadDlyTBoDDmt/MtCZd1dRFgKjRlvKuUgOsZREc+lwaAaKPXlXqDA1g5LnZo3GxLJdn5kmhjwYEiAV67fUWogVV2stD7ZVsrEkBEqXjCDxXITj0veQCxAL90pjtTUELijn6Q5lWDgNdBqaXma6MPXHLgjaWyfMCFoW+GhAgFuiXBlrrEi8Qd5CHsvaEd0LGgo0tABCAwQ8o86tZ9RorW3FlGhAgyvQUzUUD1kNAUdUUR9JNK+1SFBeqjM00IEAsUKUa9wLlPTwUwOodDcv12KsEAWKhZnF/cZMV5mlA+punN6+jBIiFmuZDrHKR5ymRLpqetpynO6+jBIgGmmaQTYNm9YqU91CvM+8jBIgGGmcen8auKc8yZdrMhcYeyvS1y1wCRCPtM18PJGLz9o1EHEQxQBQ90TVTWL8GBIiG14jGT3eD1X0YgNdvySCpVx2Rw2PYLHCylZMNVa+iOmlAgOigWLwIe2kJRtH7B5BYRMTCrRJY4NpzF2fBUe+6WfkMRmppeofG1rlIAaKzgj2L5y6NB5MaCwEmwEtBGijRgABRoqU9yoP7jhs/HgvBs8BjWPKxoD1Sg6raSAMCRCNFrqkYGzAN68RbuwWHUAz1T8IAAAJ1SURBVCPaL9GAAFGipT3MQ5+fhUgE1mhMPRC1h6emKjtqQIBwVLanKLoUDEQS8B40QOip/cORJUAczrX8xpkwq8GMhbyHb6hGEYUaECAKFbWP2ZjVYPpTzzvs49VbR50FiHVchy61YOzh2rVrGpzsot3jKFSAOPDrfP36dT1IduDXuOfpCRA9tbuCsuliKEgDczUgQMzV3J4cp/GHPblQK62mALHSC9OqWnpPRStNHmc5AsQBXfeLs5Ph9PzBxBldDGcnZ8NFNDWVFj1AkUeiAQHiSC70MIQQeDCcn54Oj1gSph2NQnSiBRoQIAqUtOsseAZnduu/OBtOTs+HSz9h29AfnJ9uexDkPTm5/J2dPfQgOOZhHGmbgi8BcX5+epX/St6uT17yd6oBAWKn6i8UjqE/tNgH52fD6dXd/2I4u4LFMGwDAqN/5CWQdnLVxdgGy6V3EXRPHpwPp0G5hbVUtgPUgACxFxfVugAY9tlwcXF26VEE4OA0tgAxSqvrYpi8vVCOKtlRAwJER+W2K9ru+BfDGZ4Ed/izi2Gr6yFAtFO3SrrSgABxpYp172y8g1MbY6Brcbb52dAEtd/yIIDIVZfiMi3dxQhnOORBrLs1+NVOgPDT9TJJG4N/NFiJ92DjElbwFiAeAsMGKU/PLy67Jw8zk3eTFgxSPoKNAGE6PfatAHHsLUDnLw0kNCBAJJSjJGng2DUgQBx7C9D5SwMJDQgQCeUoSRo4dg0IEMfeAnT+0kBCAwJEQjlKkgaOXQMCxLG3AJ2/NJDQgACRUI6SpIFj14AAcewtQOcvDSQ0IEAklKMkaeDYNSBAHHsL0PlLAwkN/D9aux/i6mTDeQAAAABJRU5ErkJggg==)"
      ]
    },
    {
      "cell_type": "markdown",
      "metadata": {
        "id": "Z_h3p7eEXJMl"
      },
      "source": [
        "5D Tensor\n",
        "\n",
        "* 5개의 축\n",
        "* 비디오 데이터가 대표적인 사례\n",
        "* 주로 샘플(samples), 프레임(frames), 높이(height), 너비(width), 컬러 채널(channel)을 가진 구조로 사용"
      ]
    },
    {
      "cell_type": "markdown",
      "metadata": {
        "id": "ehOg0eDwufru"
      },
      "source": [
        "### 텐서의 연산(Operations)\n",
        "\n",
        "* 텐서에 대한 수학 연산, 삼각함수, 비트 연산, 비교 연산, 집계 등 제공"
      ]
    },
    {
      "cell_type": "code",
      "source": [
        "import math"
      ],
      "metadata": {
        "id": "K_fkPc-NytKI"
      },
      "execution_count": null,
      "outputs": []
    },
    {
      "cell_type": "code",
      "source": [
        "print(a)\n",
        "print(torch.abs(a))\n",
        "print(torch.clamp(a,-0.5,0.5))"
      ],
      "metadata": {
        "id": "22pWRD4o1hv5"
      },
      "execution_count": null,
      "outputs": []
    },
    {
      "cell_type": "code",
      "source": [
        "print(a)\n",
        "print(torch.min(a))\n",
        "print(torch.max(a))\n",
        "print(torch.mean(a))\n",
        "print(torch.std(a))\n",
        "print(torch.unique(torch.tensor([1,2,3,1,2,2])))"
      ],
      "metadata": {
        "id": "fr1fXZEySSuD"
      },
      "execution_count": null,
      "outputs": []
    },
    {
      "cell_type": "markdown",
      "source": [
        "`max`와 `min`은 `dim` 인자를 줄 경우 argmax와 argmin도 함께 리턴\n",
        "- argmax: 최대값을 가진 인덱스\n",
        "- argmin: 최소값을 가진 인덱스\n",
        "\n"
      ],
      "metadata": {
        "id": "jOgoWFhe80rq"
      }
    },
    {
      "cell_type": "code",
      "source": [
        "x = torch.rand(2,2) \n",
        "print(x)\n",
        "print(x.max(dim=0)) \n",
        "print(x.max(dim=1)) "
      ],
      "metadata": {
        "id": "5rfjipRG_qFc",
        "colab": {
          "base_uri": "https://localhost:8080/"
        },
        "outputId": "b389be3d-cbf4-44cc-e7f5-0cf397020385"
      },
      "execution_count": null,
      "outputs": [
        {
          "output_type": "stream",
          "name": "stdout",
          "text": [
            "tensor([[0.0392, 0.2824],\n",
            "        [0.3766, 0.5897]])\n",
            "torch.return_types.max(\n",
            "values=tensor([0.3766, 0.5897]),\n",
            "indices=tensor([1, 1]))\n",
            "torch.return_types.max(\n",
            "values=tensor([0.2824, 0.5897]),\n",
            "indices=tensor([1, 1]))\n"
          ]
        }
      ]
    },
    {
      "cell_type": "markdown",
      "source": [
        "`torch.add`: 덧셈"
      ],
      "metadata": {
        "id": "vMl_SShv4B12"
      }
    },
    {
      "cell_type": "code",
      "metadata": {
        "id": "Rw4JCYkYuef9"
      },
      "source": [
        "x = torch.rand(2,2)\n",
        "y = torch.rand(2,2)"
      ],
      "execution_count": null,
      "outputs": []
    },
    {
      "cell_type": "code",
      "source": [
        "print(x + y)\n",
        "print(torch.add(x,y))"
      ],
      "metadata": {
        "id": "oMTIQGqPTlxT"
      },
      "execution_count": null,
      "outputs": []
    },
    {
      "cell_type": "markdown",
      "metadata": {
        "id": "V6BdyZFSu2Ei"
      },
      "source": [
        "`in-place` 방식\n",
        "  - in-place방식으로 텐서의 값을 변경하는 연산 뒤에는 _''가 붙음\n",
        "  - `x.copy_(y), x.t_()`"
      ]
    },
    {
      "cell_type": "code",
      "metadata": {
        "id": "lu8rR4WVu0wQ"
      },
      "source": [
        "print(x)\n",
        "print(y)\n",
        "y.add_(x) # x값이 더해짐\n",
        "print(y)"
      ],
      "execution_count": null,
      "outputs": []
    },
    {
      "cell_type": "markdown",
      "metadata": {
        "id": "Uo8nsrGjOw6W"
      },
      "source": [
        "`torch.sub`: 뺄셈"
      ]
    },
    {
      "cell_type": "code",
      "source": [],
      "metadata": {
        "id": "KEUhVLlov_s4"
      },
      "execution_count": null,
      "outputs": []
    },
    {
      "cell_type": "markdown",
      "source": [
        "`torch.mul`: 곱셉"
      ],
      "metadata": {
        "id": "1UYQ4mAd3KCy"
      }
    },
    {
      "cell_type": "code",
      "source": [],
      "metadata": {
        "id": "hjDHIVnRv9CD"
      },
      "execution_count": null,
      "outputs": []
    },
    {
      "cell_type": "markdown",
      "source": [
        "`torch.div`: 나눗셈"
      ],
      "metadata": {
        "id": "nxuoomj23L2W"
      }
    },
    {
      "cell_type": "code",
      "source": [],
      "metadata": {
        "id": "Dt33Zadtv9YJ"
      },
      "execution_count": null,
      "outputs": []
    },
    {
      "cell_type": "markdown",
      "source": [
        "`torch.mm`: 내적(dot product)"
      ],
      "metadata": {
        "id": "ceHBHlMP3NXm"
      }
    },
    {
      "cell_type": "code",
      "metadata": {
        "id": "7MR-ofE5P7VC",
        "colab": {
          "base_uri": "https://localhost:8080/"
        },
        "outputId": "6206d052-7c26-4306-fb7b-2212e22f9793"
      },
      "source": [
        "print(torch.matmul(x,y))\n",
        "print(torch.mm(x,y))\n",
        "print(x.mm(y))"
      ],
      "execution_count": null,
      "outputs": [
        {
          "output_type": "stream",
          "name": "stdout",
          "text": [
            "tensor([[2.1130, 2.1413],\n",
            "        [2.4119, 2.4373]])\n",
            "tensor([[2.1130, 2.1413],\n",
            "        [2.4119, 2.4373]])\n",
            "tensor([[2.1130, 2.1413],\n",
            "        [2.4119, 2.4373]])\n"
          ]
        }
      ]
    },
    {
      "cell_type": "code",
      "source": [
        "z = torch.mm(x,y)\n",
        "print(z)\n",
        "print(torch.svd(z)) # 행렬 분해"
      ],
      "metadata": {
        "colab": {
          "base_uri": "https://localhost:8080/"
        },
        "id": "VHG9TPPLUemL",
        "outputId": "f8b11f34-f753-4418-9e94-9a9e7d6e648e"
      },
      "execution_count": null,
      "outputs": [
        {
          "output_type": "stream",
          "name": "stdout",
          "text": [
            "tensor([[2.1130, 2.1413],\n",
            "        [2.4119, 2.4373]])\n",
            "torch.return_types.svd(\n",
            "U=tensor([[-0.6595, -0.7517],\n",
            "        [-0.7517,  0.6595]]),\n",
            "S=tensor([4.5616e+00, 3.2420e-03]),\n",
            "V=tensor([[-0.7030,  0.7112],\n",
            "        [-0.7112, -0.7030]]))\n"
          ]
        }
      ]
    },
    {
      "cell_type": "markdown",
      "metadata": {
        "id": "8URGwHE_NjDi"
      },
      "source": [
        "### 텐서의 조작(Manipulations)"
      ]
    },
    {
      "cell_type": "markdown",
      "metadata": {
        "id": "uCsdZIPTvG53"
      },
      "source": [
        "인덱싱(Indexing): NumPy처럼 인덱싱 형태로 사용가능"
      ]
    },
    {
      "cell_type": "code",
      "metadata": {
        "id": "jF2DE8kzvOs3",
        "colab": {
          "base_uri": "https://localhost:8080/"
        },
        "outputId": "2e793944-5e7c-412a-96af-4d4f747fbaee"
      },
      "source": [
        "x = torch.Tensor([[1,2],\n",
        "                  [3,4]])\n",
        "print(x)\n",
        "print(x[0,0])\n",
        "print(x[0,1])\n",
        "print(x[1,0])\n",
        "print(x[1,1])"
      ],
      "execution_count": null,
      "outputs": [
        {
          "output_type": "stream",
          "name": "stdout",
          "text": [
            "tensor([[1., 2.],\n",
            "        [3., 4.]])\n",
            "tensor(1.)\n",
            "tensor(2.)\n",
            "tensor(3.)\n",
            "tensor(4.)\n"
          ]
        }
      ]
    },
    {
      "cell_type": "markdown",
      "metadata": {
        "id": "jEscXddKvQ5l"
      },
      "source": [
        "`view`: 텐서의 크기(size)나 모양(shape)을 변경\n",
        "\n",
        "- 기본적으로 변경 전과 후에 텐서 안의 원소 개수가 유지되어야 함\n",
        "- -1로 설정되면 계산을 통해 해당 크기값을 유추"
      ]
    },
    {
      "cell_type": "code",
      "metadata": {
        "id": "xwhWeqhLvKKj",
        "colab": {
          "base_uri": "https://localhost:8080/"
        },
        "outputId": "5e3d8c22-e094-4b26-a289-b440b3d17925"
      },
      "source": [
        "x = torch.rand(4,5)\n",
        "print(x)"
      ],
      "execution_count": null,
      "outputs": [
        {
          "output_type": "stream",
          "name": "stdout",
          "text": [
            "tensor([[0.6421, 0.0418, 0.9602, 0.1967, 0.9562],\n",
            "        [0.3495, 0.2012, 0.0999, 0.3442, 0.7019],\n",
            "        [0.3865, 0.9180, 0.2866, 0.0306, 0.1574],\n",
            "        [0.4127, 0.7784, 0.5655, 0.6638, 0.8621]])\n"
          ]
        }
      ]
    },
    {
      "cell_type": "code",
      "source": [],
      "metadata": {
        "id": "kz8DeV7KwD0Y"
      },
      "execution_count": null,
      "outputs": []
    },
    {
      "cell_type": "markdown",
      "metadata": {
        "id": "iBY_wuIRvf5j"
      },
      "source": [
        "`item`: 텐서에 값이 단 하나라도 존재하면 숫자값을 얻을 수 있음\n"
      ]
    },
    {
      "cell_type": "code",
      "metadata": {
        "id": "E0W24QqpvcmV",
        "colab": {
          "base_uri": "https://localhost:8080/"
        },
        "outputId": "caf001df-8825-4f56-b980-7667c5810c07"
      },
      "source": [
        "x = torch.randn(1)\n",
        "print(x)\n",
        "print(x.item())\n",
        "print(x.dtype)"
      ],
      "execution_count": null,
      "outputs": [
        {
          "output_type": "stream",
          "name": "stdout",
          "text": [
            "tensor([0.6622])\n",
            "0.6622304916381836\n",
            "torch.float32\n"
          ]
        }
      ]
    },
    {
      "cell_type": "markdown",
      "metadata": {
        "id": "V1sCUVwC3Nua"
      },
      "source": [
        "스칼라값 하나만 존재해야 `item()` 사용 가능"
      ]
    },
    {
      "cell_type": "code",
      "metadata": {
        "id": "jl4_FAgd3Lt9",
        "colab": {
          "base_uri": "https://localhost:8080/",
          "height": 246
        },
        "outputId": "21fc2700-fe6c-4ba8-e982-bdaabcdea9ba"
      },
      "source": [
        "x = torch.randn(2)\n",
        "print(x)\n",
        "print(x.item())\n",
        "print(x.dtype)"
      ],
      "execution_count": null,
      "outputs": [
        {
          "output_type": "stream",
          "name": "stdout",
          "text": [
            "tensor([-1.3978, -1.4173])\n"
          ]
        },
        {
          "output_type": "error",
          "ename": "ValueError",
          "evalue": "ignored",
          "traceback": [
            "\u001b[0;31m---------------------------------------------------------------------------\u001b[0m",
            "\u001b[0;31mValueError\u001b[0m                                Traceback (most recent call last)",
            "\u001b[0;32m<ipython-input-37-7c023f92a1c8>\u001b[0m in \u001b[0;36m<module>\u001b[0;34m()\u001b[0m\n\u001b[1;32m      1\u001b[0m \u001b[0mx\u001b[0m \u001b[0;34m=\u001b[0m \u001b[0mtorch\u001b[0m\u001b[0;34m.\u001b[0m\u001b[0mrandn\u001b[0m\u001b[0;34m(\u001b[0m\u001b[0;36m2\u001b[0m\u001b[0;34m)\u001b[0m\u001b[0;34m\u001b[0m\u001b[0;34m\u001b[0m\u001b[0m\n\u001b[1;32m      2\u001b[0m \u001b[0mprint\u001b[0m\u001b[0;34m(\u001b[0m\u001b[0mx\u001b[0m\u001b[0;34m)\u001b[0m\u001b[0;34m\u001b[0m\u001b[0;34m\u001b[0m\u001b[0m\n\u001b[0;32m----> 3\u001b[0;31m \u001b[0mprint\u001b[0m\u001b[0;34m(\u001b[0m\u001b[0mx\u001b[0m\u001b[0;34m.\u001b[0m\u001b[0mitem\u001b[0m\u001b[0;34m(\u001b[0m\u001b[0;34m)\u001b[0m\u001b[0;34m)\u001b[0m\u001b[0;34m\u001b[0m\u001b[0;34m\u001b[0m\u001b[0m\n\u001b[0m\u001b[1;32m      4\u001b[0m \u001b[0mprint\u001b[0m\u001b[0;34m(\u001b[0m\u001b[0mx\u001b[0m\u001b[0;34m.\u001b[0m\u001b[0mdtype\u001b[0m\u001b[0;34m)\u001b[0m\u001b[0;34m\u001b[0m\u001b[0;34m\u001b[0m\u001b[0m\n",
            "\u001b[0;31mValueError\u001b[0m: only one element tensors can be converted to Python scalars"
          ]
        }
      ]
    },
    {
      "cell_type": "markdown",
      "metadata": {
        "id": "uThndsy5M6wM"
      },
      "source": [
        "`squeeze`: 차원을 축소(제거)"
      ]
    },
    {
      "cell_type": "code",
      "metadata": {
        "id": "OF3rOavnRxgM",
        "colab": {
          "base_uri": "https://localhost:8080/"
        },
        "outputId": "b1cdbe6f-0fb4-4da0-e788-207ecc1083a4"
      },
      "source": [
        "tensor = torch.rand(1,3,3)\n",
        "print(tensor)\n",
        "print(tensor.shape)"
      ],
      "execution_count": null,
      "outputs": [
        {
          "output_type": "stream",
          "name": "stdout",
          "text": [
            "tensor([[[0.6832, 0.8483, 0.9484],\n",
            "         [0.7104, 0.2122, 0.6048],\n",
            "         [0.7207, 0.1905, 0.4195]]])\n",
            "torch.Size([1, 3, 3])\n"
          ]
        }
      ]
    },
    {
      "cell_type": "code",
      "source": [],
      "metadata": {
        "id": "PV8j0asAwGhr"
      },
      "execution_count": null,
      "outputs": []
    },
    {
      "cell_type": "markdown",
      "metadata": {
        "id": "COv-dnTYNJ8Z"
      },
      "source": [
        "`unsqueeze`: 차원을 증가(생성)"
      ]
    },
    {
      "cell_type": "code",
      "metadata": {
        "id": "PFxaHGY1NOBo",
        "colab": {
          "base_uri": "https://localhost:8080/"
        },
        "outputId": "aecb319b-6f5f-4844-b244-bd0a43097721"
      },
      "source": [
        "t = torch.rand(3,3)\n",
        "print(t)\n",
        "print(t.shape)"
      ],
      "execution_count": null,
      "outputs": [
        {
          "output_type": "stream",
          "name": "stdout",
          "text": [
            "tensor([[0.9654, 0.0956, 0.0425],\n",
            "        [0.0367, 0.2689, 0.1990],\n",
            "        [0.2843, 0.3053, 0.9906]])\n",
            "torch.Size([3, 3])\n"
          ]
        }
      ]
    },
    {
      "cell_type": "code",
      "source": [],
      "metadata": {
        "id": "gjXoydb_wIeO"
      },
      "execution_count": null,
      "outputs": []
    },
    {
      "cell_type": "code",
      "source": [],
      "metadata": {
        "id": "kTo5ZhPbwIvL"
      },
      "execution_count": null,
      "outputs": []
    },
    {
      "cell_type": "markdown",
      "metadata": {
        "id": "_C_oa9JANOa6"
      },
      "source": [
        "`stack`: 텐서간 결합"
      ]
    },
    {
      "cell_type": "code",
      "metadata": {
        "id": "f3x_XaUYNOuc"
      },
      "source": [
        "x = torch.FloatTensor([1,4])\n",
        "y = torch.FloatTensor([2,5])\n",
        "z = torch.FloatTensor([3,6])"
      ],
      "execution_count": null,
      "outputs": []
    },
    {
      "cell_type": "code",
      "source": [
        "print(torch.stack([x,y,z]))"
      ],
      "metadata": {
        "colab": {
          "base_uri": "https://localhost:8080/"
        },
        "id": "5ZquqVaeXO2m",
        "outputId": "7d2dbf5e-4ce0-4dca-b4d6-c3f5778cc9f9"
      },
      "execution_count": null,
      "outputs": [
        {
          "output_type": "stream",
          "name": "stdout",
          "text": [
            "tensor([[1., 4.],\n",
            "        [2., 5.],\n",
            "        [3., 6.]])\n"
          ]
        }
      ]
    },
    {
      "cell_type": "markdown",
      "metadata": {
        "id": "XmJscbfg35-c"
      },
      "source": [
        "`cat`: 텐서를 결합하는 메소드(concatenate)\n",
        "\n",
        "- 넘파이의 `stack`과 유사하지만, 쌓을 `dim`이 존재해야함\n",
        "- 해당 차원을 늘려준 후 결합\n"
      ]
    },
    {
      "cell_type": "code",
      "metadata": {
        "id": "69M5jY60S7Mi",
        "colab": {
          "base_uri": "https://localhost:8080/"
        },
        "outputId": "9cf6e7a8-ed9b-45f2-8966-32d786a03906"
      },
      "source": [
        "a = torch.randn(1,3,3)\n",
        "print(a)\n",
        "b = torch.randn(1,3,3)\n",
        "print(b)\n",
        "c = torch.cat((a,b), dim=0)\n",
        "print(c)\n",
        "print(c.size())"
      ],
      "execution_count": null,
      "outputs": [
        {
          "output_type": "stream",
          "name": "stdout",
          "text": [
            "tensor([[[ 0.3754,  1.7948, -0.3136],\n",
            "         [-1.9942, -1.3139,  0.8362],\n",
            "         [-0.0146, -0.5111, -0.9375]]])\n",
            "tensor([[[-1.4173, -1.0793, -1.5243],\n",
            "         [-0.2368, -0.3814,  0.9378],\n",
            "         [-1.3682, -0.6972,  0.1583]]])\n",
            "tensor([[[ 0.3754,  1.7948, -0.3136],\n",
            "         [-1.9942, -1.3139,  0.8362],\n",
            "         [-0.0146, -0.5111, -0.9375]],\n",
            "\n",
            "        [[-1.4173, -1.0793, -1.5243],\n",
            "         [-0.2368, -0.3814,  0.9378],\n",
            "         [-1.3682, -0.6972,  0.1583]]])\n",
            "torch.Size([2, 3, 3])\n"
          ]
        }
      ]
    },
    {
      "cell_type": "code",
      "source": [
        "c = torch.cat((a,b), dim=1)\n",
        "print(c)\n",
        "print(c.size())"
      ],
      "metadata": {
        "id": "YkaRQQRuRT3L",
        "colab": {
          "base_uri": "https://localhost:8080/"
        },
        "outputId": "501b5262-fde6-4159-97c1-7216d2e7e46e"
      },
      "execution_count": null,
      "outputs": [
        {
          "output_type": "stream",
          "name": "stdout",
          "text": [
            "tensor([[[ 0.3754,  1.7948, -0.3136],\n",
            "         [-1.9942, -1.3139,  0.8362],\n",
            "         [-0.0146, -0.5111, -0.9375],\n",
            "         [-1.4173, -1.0793, -1.5243],\n",
            "         [-0.2368, -0.3814,  0.9378],\n",
            "         [-1.3682, -0.6972,  0.1583]]])\n",
            "torch.Size([1, 6, 3])\n"
          ]
        }
      ]
    },
    {
      "cell_type": "code",
      "source": [
        "c = torch.cat((a,b), dim=2)\n",
        "print(c)\n",
        "print(c.size())"
      ],
      "metadata": {
        "id": "7x2TWkYGRl0Z",
        "colab": {
          "base_uri": "https://localhost:8080/"
        },
        "outputId": "c0b2bd97-5d8f-4425-f183-d92cc92ec5c8"
      },
      "execution_count": null,
      "outputs": [
        {
          "output_type": "stream",
          "name": "stdout",
          "text": [
            "tensor([[[ 0.3754,  1.7948, -0.3136, -1.4173, -1.0793, -1.5243],\n",
            "         [-1.9942, -1.3139,  0.8362, -0.2368, -0.3814,  0.9378],\n",
            "         [-0.0146, -0.5111, -0.9375, -1.3682, -0.6972,  0.1583]]])\n",
            "torch.Size([1, 3, 6])\n"
          ]
        }
      ]
    },
    {
      "cell_type": "markdown",
      "metadata": {
        "id": "7gGXnOAqQTmG"
      },
      "source": [
        "`chunk`: 텐서를 여러 개로 나눌 때 사용 (몇 개로 나눌 것인가?)"
      ]
    },
    {
      "cell_type": "code",
      "metadata": {
        "id": "pNV80VzPQZgG",
        "colab": {
          "base_uri": "https://localhost:8080/"
        },
        "outputId": "92c2a174-104e-4e15-85d4-a6017a7c5ffb"
      },
      "source": [
        "tensor = torch.rand(3,6)\n",
        "print(tensor)"
      ],
      "execution_count": null,
      "outputs": [
        {
          "output_type": "stream",
          "name": "stdout",
          "text": [
            "tensor([[0.2088, 0.1907, 0.0180, 0.2219, 0.5393, 0.1299],\n",
            "        [0.6829, 0.8879, 0.5292, 0.9939, 0.3080, 0.5350],\n",
            "        [0.2623, 0.3082, 0.1428, 0.3798, 0.9149, 0.8505]])\n"
          ]
        }
      ]
    },
    {
      "cell_type": "code",
      "source": [
        "t1,t2,t3 = torch.chunk(tensor, 3, dim=1)\n",
        "print(t1)\n",
        "print(t2)\n",
        "print(t3)"
      ],
      "metadata": {
        "colab": {
          "base_uri": "https://localhost:8080/"
        },
        "id": "6ZDPezrRlFKd",
        "outputId": "103bb946-a04a-4b36-cf29-4eb48a0ad84c"
      },
      "execution_count": null,
      "outputs": [
        {
          "output_type": "stream",
          "name": "stdout",
          "text": [
            "tensor([[0.5214, 0.1478],\n",
            "        [0.8248, 0.3860],\n",
            "        [0.4154, 0.3630]])\n",
            "tensor([[0.3484, 0.9160],\n",
            "        [0.0819, 0.4468],\n",
            "        [0.6979, 0.9874]])\n",
            "tensor([[0.0192, 0.2175],\n",
            "        [0.4293, 0.4137],\n",
            "        [0.0611, 0.6154]])\n"
          ]
        }
      ]
    },
    {
      "cell_type": "markdown",
      "metadata": {
        "id": "estSwhCgvta6"
      },
      "source": [
        "torch ↔ numpy\n",
        "- Torch Tensor(텐서)를 NumPy array(배열)로 변환 가능\n",
        "  - `numpy()`\n",
        "  - `from_numpy()`\n",
        "- Tensor가 CPU상에 있다면 NumPy 배열은 메모리 공간을 공유하므로 하나가 변하면, 다른 하나도 변함"
      ]
    },
    {
      "cell_type": "code",
      "metadata": {
        "id": "VxHI7c_yvmAT",
        "colab": {
          "base_uri": "https://localhost:8080/"
        },
        "outputId": "6e67d537-70e4-4827-e0b2-0fde73ac401a"
      },
      "source": [
        "a = torch.ones(7) \n",
        "print(a)"
      ],
      "execution_count": null,
      "outputs": [
        {
          "output_type": "stream",
          "name": "stdout",
          "text": [
            "tensor([1., 1., 1., 1., 1., 1., 1.])\n"
          ]
        }
      ]
    },
    {
      "cell_type": "code",
      "metadata": {
        "id": "whbrhokHwJ3A",
        "colab": {
          "base_uri": "https://localhost:8080/"
        },
        "outputId": "dcd9e36d-5796-400e-a893-5127bce9cec8"
      },
      "source": [
        "b = a.numpy()\n",
        "print(b)"
      ],
      "execution_count": null,
      "outputs": [
        {
          "output_type": "stream",
          "name": "stdout",
          "text": [
            "[1. 1. 1. 1. 1. 1. 1.]\n"
          ]
        }
      ]
    },
    {
      "cell_type": "code",
      "metadata": {
        "id": "5StIhUWDwQjA",
        "colab": {
          "base_uri": "https://localhost:8080/"
        },
        "outputId": "4e171003-9768-4b31-9511-95ad10d56569"
      },
      "source": [
        "a.add_(1) \n",
        "print(a) \n",
        "print(b)"
      ],
      "execution_count": null,
      "outputs": [
        {
          "output_type": "stream",
          "name": "stdout",
          "text": [
            "tensor([2., 2., 2., 2., 2., 2., 2.])\n",
            "[2. 2. 2. 2. 2. 2. 2.]\n"
          ]
        }
      ]
    },
    {
      "cell_type": "code",
      "metadata": {
        "id": "3RNS5-cRwTt8",
        "colab": {
          "base_uri": "https://localhost:8080/"
        },
        "outputId": "2e63aedc-0e38-4e17-cefb-29fba6b416f0"
      },
      "source": [
        "import numpy as np\n",
        "\n",
        "a = np.ones(7)\n",
        "b = torch.from_numpy(a)\n",
        "np.add(a,1,out=a) \n",
        "print(a)\n",
        "print(b)"
      ],
      "execution_count": null,
      "outputs": [
        {
          "output_type": "stream",
          "name": "stdout",
          "text": [
            "[2. 2. 2. 2. 2. 2. 2.]\n",
            "tensor([2., 2., 2., 2., 2., 2., 2.], dtype=torch.float64)\n"
          ]
        }
      ]
    },
    {
      "cell_type": "markdown",
      "source": [
        "## Autograd(자동미분)\n",
        "\n",
        "- 신경망을 학습할 때 가장 자주 사용되는 알고리즘은 역전파\n",
        "\n",
        "- `torch.autograd` 패키지는 Tensor의 모든 연산에 대해 **자동 미분** 제공\n",
        "- 이는 코드를 어떻게 작성하여 실행하느냐에 따라 역전파가 정의된다는 뜻\n",
        "- `backprop`를 위해 미분값을 자동으로 계산\n",
        "\n",
        "- `requires_grad` 속성을 `True`로 설정하면, 해당 텐서에서 이루어지는 모든 연산들을 추적하기 시작"
      ],
      "metadata": {
        "id": "GNHoofIm1TAy"
      }
    },
    {
      "cell_type": "code",
      "source": [
        "import torch\n",
        "x = torch.ones(5)  # input tensor\n",
        "y = torch.zeros(3)  # expected output\n",
        "w = torch.randn(5, 3, requires_grad=True) # 최적화 해야하는 매개변수\n",
        "b = torch.randn(3, requires_grad=True) # 최적화 해야하는 매개변수\n",
        "z = torch.matmul(x, w)+b\n",
        "loss = torch.nn.functional.binary_cross_entropy_with_logits(z, y)"
      ],
      "metadata": {
        "id": "fbVBNG3YkgJK"
      },
      "execution_count": null,
      "outputs": []
    },
    {
      "cell_type": "markdown",
      "source": [
        "![image.png](data:image/png;base64,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)"
      ],
      "metadata": {
        "id": "RTXTeq6QlOJO"
      }
    },
    {
      "cell_type": "markdown",
      "source": [
        "이 신경망에서, w와 b는 최적화를 해야 하는 매개변수입니다. 따라서 이러한 변수들에 대한 손실 함수의 변화도를 계산할 수 있어야 합니다. 이를 위해서 해당 텐서에 requires_grad 속성을 설정합니다."
      ],
      "metadata": {
        "id": "u8MvWWlOl-pL"
      }
    },
    {
      "cell_type": "markdown",
      "source": [
        "# 변화도(Gradient) 계산하기\n",
        "\n",
        "신경망에서 매개변수의 가중치를 최적화하려면 매개변수에 대한 손실함수의 도함수(derivative)를 계산해야 합니다. "
      ],
      "metadata": {
        "id": "Ic3M_LxtmD-g"
      }
    },
    {
      "cell_type": "code",
      "source": [
        "loss.backward()\n",
        "print(w.grad)\n",
        "print(b.grad)"
      ],
      "metadata": {
        "colab": {
          "base_uri": "https://localhost:8080/"
        },
        "id": "W1jmjePOlkhZ",
        "outputId": "a5074651-6845-4db0-e78a-c9b515f30486"
      },
      "execution_count": null,
      "outputs": [
        {
          "output_type": "stream",
          "name": "stdout",
          "text": [
            "tensor([[0.2218, 0.3320, 0.2861],\n",
            "        [0.2218, 0.3320, 0.2861],\n",
            "        [0.2218, 0.3320, 0.2861],\n",
            "        [0.2218, 0.3320, 0.2861],\n",
            "        [0.2218, 0.3320, 0.2861]])\n",
            "tensor([0.2218, 0.3320, 0.2861])\n"
          ]
        }
      ]
    },
    {
      "cell_type": "markdown",
      "source": [
        "- 연산 그래프의 잎(leaf) 노드들 중 `requires_grad` 속성이 `True`로 설정된 노드들의 grad 속성만 구할 수 있습니다. 그래프의 다른 모든 노드에서는 변화도가 유효하지 않습니다.\n",
        "\n",
        "- 성능 상의 이유로, 주어진 그래프에서의 `backward`를 사용한 변화도 계산은 한 번만 수행할 수 있습니다. 만약 동일한 그래프에서 여러번의 `backward` 호출이 필요하면, `backward` 호출 시에 `retrain_graph=True`를 전달해야 합니다."
      ],
      "metadata": {
        "id": "y0mYc0eYmS0S"
      }
    },
    {
      "cell_type": "markdown",
      "source": [
        "# 변화도 추적 멈추기\n",
        "\n",
        "기본적으로, `requires_grad=True`인 모든 텐서들은 연산 기록을 추적하고 변화도 계산을 지원합니다. 그러나 모델을 학습한 뒤 입력 데이터를 단순히 적용하기만 하는 경우와 같이 순전파 연산만 필요한 경우에는, 이러한 추적이나 지원이 필요없을 수 있습니다. 연산 코드를 `torch.no_grad()` 블록으로 둘러싸서 연산 추적을 멈출 수 있습니다:"
      ],
      "metadata": {
        "id": "Z7gdOlvqmkOd"
      }
    },
    {
      "cell_type": "code",
      "source": [
        "z = torch.matmul(x, w)+b\n",
        "print(z.requires_grad)\n",
        "\n",
        "with torch.no_grad():\n",
        "    z = torch.matmul(x, w)+b\n",
        "print(z.requires_grad)"
      ],
      "metadata": {
        "colab": {
          "base_uri": "https://localhost:8080/"
        },
        "id": "idQiimRBmrLw",
        "outputId": "01f0133b-d547-4249-f164-ce734b346403"
      },
      "execution_count": null,
      "outputs": [
        {
          "output_type": "stream",
          "name": "stdout",
          "text": [
            "True\n",
            "False\n"
          ]
        }
      ]
    },
    {
      "cell_type": "markdown",
      "source": [
        "동일한 결과를 얻는 다른 방법은 텐서에 `detach()` 메소드를 사용하는 것"
      ],
      "metadata": {
        "id": "6nNibm5RmwEn"
      }
    },
    {
      "cell_type": "code",
      "source": [
        "z = torch.matmul(x, w)+b\n",
        "z_det = z.detach()\n",
        "print(z_det.requires_grad)"
      ],
      "metadata": {
        "colab": {
          "base_uri": "https://localhost:8080/"
        },
        "id": "TYh9ZckkmuEm",
        "outputId": "b1c2fdaf-5c32-406e-b11c-5101d043909d"
      },
      "execution_count": null,
      "outputs": [
        {
          "output_type": "stream",
          "name": "stdout",
          "text": [
            "False\n"
          ]
        }
      ]
    },
    {
      "cell_type": "markdown",
      "source": [
        "변화도 추적을 멈춰야 하는 이유들은 다음과 같습니다:\n",
        "- 신경망의 일부 매개변수를 고정된 매개변수(frozen parameter)로 표시합니다. 이는 사전 학습된 신경망을 미세조정 할 때 매우 일반적인 시나리오입니다.\n",
        "\n",
        "- 변화도를 추적하지 않는 텐서의 연산이 더 효율적이기 때문에, 순전파 단계만 수행할 때 연산 속도가 향상됩니다.-"
      ],
      "metadata": {
        "id": "v_TBf4i9m6Cc"
      }
    },
    {
      "cell_type": "markdown",
      "metadata": {
        "id": "I4l1GvIlslKa"
      },
      "source": [
        "## 데이터 준비\n",
        "\n",
        "파이토치에서는 데이터 준비를 위해 `torch.utils.data`의 `Dataset`과 `DataLoader` 사용 가능\n",
        "\n",
        "- `Dataset`에는 다양한 데이터셋이 존재 (MNIST, FashionMNIST, CIFAR10, ...)\n",
        "  - Vision Dataset: https://pytorch.org/vision/stable/datasets.html\n",
        "  - Text Dataset: https://pytorch.org/text/stable/datasets.html\n",
        "  - Audio Dataset: https://pytorch.org/audio/stable/datasets.html\n",
        "- `DataLoader`와 `Dataset`을 통해 `batch_size`, `train` 여부, `transform` 등을 인자로 넣어 데이터를 어떻게 load할 것인지 정해줄 수 있음"
      ]
    },
    {
      "cell_type": "code",
      "source": [
        "import torch\n",
        "from torch.utils.data import Dataset\n",
        "from torchvision import datasets\n",
        "from torchvision.transforms import ToTensor\n",
        "import matplotlib.pyplot as plt\n",
        "from torch import nn\n",
        "from torch.utils.data import DataLoader"
      ],
      "metadata": {
        "id": "ccOuOUHtIbNY"
      },
      "execution_count": null,
      "outputs": []
    },
    {
      "cell_type": "markdown",
      "metadata": {
        "id": "Wah4RsmgrRDP"
      },
      "source": [
        "토치비전(`torchvision`)은 파이토치에서 제공하는 데이터셋들이 모여있는 패키지\n",
        "\n",
        "- `transforms`: 전처리할 때 사용하는 메소드 (https://pytorch.org/docs/stable/torchvision/transforms.html)\n",
        "- `transforms`에서 제공하는 클래스 이외는 일반적으로 클래스를 따로 만들어 전처리 단계를 진행\n"
      ]
    },
    {
      "cell_type": "code",
      "source": [
        "training_data = datasets.FashionMNIST(\n",
        "    root=\"data\",\n",
        "    train=True,\n",
        "    download=True,\n",
        "    transform=ToTensor()\n",
        ")\n",
        "\n",
        "test_data = datasets.FashionMNIST(\n",
        "    root=\"data\",\n",
        "    train=False,\n",
        "    download=True,\n",
        "    transform=ToTensor()\n",
        ")"
      ],
      "metadata": {
        "colab": {
          "base_uri": "https://localhost:8080/",
          "height": 437,
          "referenced_widgets": [
            "e15e7ef7e9474e0492b9228c7c58d677",
            "71ce22e8d68741a8b1079f213d8ab4d1",
            "c8905de40ce7454ea95493a385be7415",
            "0b3ad8415e6f4723aa8efe4ba1916960",
            "2f31d289c55340879e2246a2450d7652",
            "6c1e9a0ea8874bb483e110cf9a413643",
            "eabfb1ce836c4e419676763f3c4622ee",
            "8969678ff0f344169d49060acffc50f5",
            "b8df8a23060347ada6961179ed9775e0",
            "2d5d3ae4e9af41cea4a4af30f3e5a614",
            "813053ca0033458a8cf0844c22fb63a8",
            "1d21c73960094992890a22eb1949ec8c",
            "55275226dd8d4b36aac982cb794eadfc",
            "ebf8387db0c64ecaa439cfeeaf1e958b",
            "a218be54ad3140cfba98fa1d22fffd46",
            "f96950ba985d486cb3c394172380134e",
            "4afaf6c1bb3342a79eb8f61b2d80ef41",
            "a925e5a780d94f1e87124a916f3c9fad",
            "cd968c38d13f4990aa6b3abd4e2c3e5c",
            "3edadbdfab5846a88677754e0537b72e",
            "475e2715258f4f2bb2d2bd5759321e11",
            "8366c758152341f4adc8f84853e805f9",
            "bb999f321fce4d6ca8ef8739cd95f8cb",
            "caa6f707402e4632b64eb650a00c645f",
            "41e696a46a8a492abd115af17c81e6a0",
            "ae48ef0b5ee24c8b8545ab6f8e67f123",
            "8d557a396727417c970e6dda94de16a6",
            "02bddee23767433687c52f7b7e34650f",
            "a7a3b45eae184e348e380b77aa7e831d",
            "c65ec01412fe41bda1462e0e61277b9c",
            "9806e718fd8e4ebfbb2baeb8e01ea8a7",
            "b191bc1f478949a59642a0ed411aff50",
            "36b7c600fa624d4eadb71e740cef702e",
            "2379d3b9cc4f4089b6314d0a0a71de9f",
            "41b6f538c13c48ac9f3c128ed4eb3799",
            "958521a6f43e46e18adaf63713dff83c",
            "86fc4cdda83b4f4ab1efd8d8a1f01980",
            "855d4a18e1874127a4e04c4dc5a9d31a",
            "477859d0414c404fb0c735f714db5a9d",
            "141d7c3832334ceda7576060f38d6ea1",
            "aa1b1dc48ba9484baf140e07c191ecca",
            "c733d80fecb9449b94b8cedea6300f2a",
            "3a315196a68c44c1bbfe18cb8da43cbb",
            "2b8733a12dcf4fbdad1a07226c838b44"
          ]
        },
        "id": "4TfpMQTlxiBi",
        "outputId": "5faa9a33-5aa0-446c-cdb5-2e96dab90317"
      },
      "execution_count": null,
      "outputs": [
        {
          "output_type": "stream",
          "name": "stdout",
          "text": [
            "Downloading http://fashion-mnist.s3-website.eu-central-1.amazonaws.com/train-images-idx3-ubyte.gz\n",
            "Downloading http://fashion-mnist.s3-website.eu-central-1.amazonaws.com/train-images-idx3-ubyte.gz to data/FashionMNIST/raw/train-images-idx3-ubyte.gz\n"
          ]
        },
        {
          "output_type": "display_data",
          "data": {
            "text/plain": [
              "  0%|          | 0/26421880 [00:00<?, ?it/s]"
            ],
            "application/vnd.jupyter.widget-view+json": {
              "version_major": 2,
              "version_minor": 0,
              "model_id": "e15e7ef7e9474e0492b9228c7c58d677"
            }
          },
          "metadata": {}
        },
        {
          "output_type": "stream",
          "name": "stdout",
          "text": [
            "Extracting data/FashionMNIST/raw/train-images-idx3-ubyte.gz to data/FashionMNIST/raw\n",
            "\n",
            "Downloading http://fashion-mnist.s3-website.eu-central-1.amazonaws.com/train-labels-idx1-ubyte.gz\n",
            "Downloading http://fashion-mnist.s3-website.eu-central-1.amazonaws.com/train-labels-idx1-ubyte.gz to data/FashionMNIST/raw/train-labels-idx1-ubyte.gz\n"
          ]
        },
        {
          "output_type": "display_data",
          "data": {
            "text/plain": [
              "  0%|          | 0/29515 [00:00<?, ?it/s]"
            ],
            "application/vnd.jupyter.widget-view+json": {
              "version_major": 2,
              "version_minor": 0,
              "model_id": "1d21c73960094992890a22eb1949ec8c"
            }
          },
          "metadata": {}
        },
        {
          "output_type": "stream",
          "name": "stdout",
          "text": [
            "Extracting data/FashionMNIST/raw/train-labels-idx1-ubyte.gz to data/FashionMNIST/raw\n",
            "\n",
            "Downloading http://fashion-mnist.s3-website.eu-central-1.amazonaws.com/t10k-images-idx3-ubyte.gz\n",
            "Downloading http://fashion-mnist.s3-website.eu-central-1.amazonaws.com/t10k-images-idx3-ubyte.gz to data/FashionMNIST/raw/t10k-images-idx3-ubyte.gz\n"
          ]
        },
        {
          "output_type": "display_data",
          "data": {
            "text/plain": [
              "  0%|          | 0/4422102 [00:00<?, ?it/s]"
            ],
            "application/vnd.jupyter.widget-view+json": {
              "version_major": 2,
              "version_minor": 0,
              "model_id": "bb999f321fce4d6ca8ef8739cd95f8cb"
            }
          },
          "metadata": {}
        },
        {
          "output_type": "stream",
          "name": "stdout",
          "text": [
            "Extracting data/FashionMNIST/raw/t10k-images-idx3-ubyte.gz to data/FashionMNIST/raw\n",
            "\n",
            "Downloading http://fashion-mnist.s3-website.eu-central-1.amazonaws.com/t10k-labels-idx1-ubyte.gz\n",
            "Downloading http://fashion-mnist.s3-website.eu-central-1.amazonaws.com/t10k-labels-idx1-ubyte.gz to data/FashionMNIST/raw/t10k-labels-idx1-ubyte.gz\n"
          ]
        },
        {
          "output_type": "display_data",
          "data": {
            "text/plain": [
              "  0%|          | 0/5148 [00:00<?, ?it/s]"
            ],
            "application/vnd.jupyter.widget-view+json": {
              "version_major": 2,
              "version_minor": 0,
              "model_id": "2379d3b9cc4f4089b6314d0a0a71de9f"
            }
          },
          "metadata": {}
        },
        {
          "output_type": "stream",
          "name": "stdout",
          "text": [
            "Extracting data/FashionMNIST/raw/t10k-labels-idx1-ubyte.gz to data/FashionMNIST/raw\n",
            "\n"
          ]
        }
      ]
    },
    {
      "cell_type": "markdown",
      "source": [
        "`Dataset` 에 리스트(list)처럼 직접 접근(index)할 수 있음\n",
        "\n",
        " `training_data[index]`. `matplotlib` 을 사용하여 학습 데이터의 일부를 시각화하기"
      ],
      "metadata": {
        "id": "yr3rtr6tx2fl"
      }
    },
    {
      "cell_type": "code",
      "metadata": {
        "id": "hvgMIyF6uUuU",
        "colab": {
          "base_uri": "https://localhost:8080/",
          "height": 482
        },
        "outputId": "dee18e8c-c1cd-4664-cadb-9880bcfd2615"
      },
      "source": [
        "labels_map = {\n",
        "    0: \"T-Shirt\",\n",
        "    1: \"Trouser\",\n",
        "    2: \"Pullover\",\n",
        "    3: \"Dress\",\n",
        "    4: \"Coat\",\n",
        "    5: \"Sandal\",\n",
        "    6: \"Shirt\",\n",
        "    7: \"Sneaker\",\n",
        "    8: \"Bag\",\n",
        "    9: \"Ankle Boot\",\n",
        "}\n",
        "figure = plt.figure(figsize=(8, 8))\n",
        "cols, rows = 3, 3\n",
        "for i in range(1, cols * rows + 1):\n",
        "    sample_idx = torch.randint(len(training_data), size=(1,)).item()\n",
        "    img, label = training_data[sample_idx]\n",
        "    figure.add_subplot(rows, cols, i)\n",
        "    plt.title(labels_map[label])\n",
        "    plt.axis(\"off\")\n",
        "    plt.imshow(img.squeeze(), cmap=\"gray\")\n",
        "plt.show()"
      ],
      "execution_count": null,
      "outputs": [
        {
          "output_type": "display_data",
          "data": {
            "text/plain": [
              "<Figure size 576x576 with 9 Axes>"
            ],
            "image/png": "[encoded data removed]"
          },
          "metadata": {
            "needs_background": "light"
          }
        }
      ]
    },
    {
      "cell_type": "markdown",
      "source": [
        "`Dataset` 을 `DataLoader` 의 인자로 전달합니다. 이는 데이터셋을 순회 가능한 객체(iterable)로 감싸고, 자동화된 배치(batch), 샘플링(sampling), 섞기(shuffle) 및 다중 프로세스로 데이터 불러오기(multiprocess data loading)를 지원합니다. 여기서는 배치 크기(batch size)를 64로 정의합니다. 즉, 데이터로더(dataloader) 객체의 각 요소는 64개의 특징(feature)과 정답(label)을 묶음(batch)으로 반환합니다."
      ],
      "metadata": {
        "id": "VRgXYaEAzPtD"
      }
    },
    {
      "cell_type": "code",
      "source": [
        "batch_size = 64\n",
        "\n",
        "# 데이터로더 생성\n",
        "train_dataloader = DataLoader(training_data, batch_size=batch_size)\n",
        "test_dataloader = DataLoader(test_data, batch_size=batch_size)\n",
        "\n",
        "for X, y in test_dataloader:\n",
        "    print(f\"Shape of X [N, C, H, W]: {X.shape}\")\n",
        "    print(f\"Shape of y: {y.shape} {y.dtype}\")\n",
        "    break"
      ],
      "metadata": {
        "id": "vYP9dGrWzDqd",
        "colab": {
          "base_uri": "https://localhost:8080/"
        },
        "outputId": "3576c899-18de-417c-e664-172b9b2a8f2e"
      },
      "execution_count": null,
      "outputs": [
        {
          "output_type": "stream",
          "name": "stdout",
          "text": [
            "Shape of X [N, C, H, W]: torch.Size([64, 1, 28, 28])\n",
            "Shape of y: torch.Size([64]) torch.int64\n"
          ]
        }
      ]
    },
    {
      "cell_type": "markdown",
      "source": [
        "# 모델만들기\n",
        "\n",
        "PyTorch에서 신경망 모델은 nn.Module 을 상속받는 클래스(class)를 생성하여 정의합니다. `__init__` 함수에서 신경망의 계층(layer)들을 정의하고 `forward` 함수에서 신경망에 데이터를 어떻게 전달할지 지정합니다. 가능한 경우 GPU로 신경망을 이동시켜 연산을 가속(accelerate)합니다."
      ],
      "metadata": {
        "id": "0yberBDwzjcP"
      }
    },
    {
      "cell_type": "code",
      "source": [
        "# GPU\n",
        "device = \"cuda\" if torch.cuda.is_available() else \"cpu\"\n",
        "print(f\"Using {device} device\")\n",
        "\n",
        "class NeuralNetwork(nn.Module):\n",
        "    def __init__(self):\n",
        "        super(NeuralNetwork, self).__init__()\n",
        "        self.flatten = nn.Flatten()\n",
        "        self.linear_relu_stack = nn.Sequential(\n",
        "            nn.Linear(28*28, 512),\n",
        "            nn.ReLU(),\n",
        "            nn.Linear(512, 512),\n",
        "            nn.ReLU(),\n",
        "            nn.Linear(512, 10)\n",
        "        )\n",
        "\n",
        "    def forward(self, x):\n",
        "        x = self.flatten(x)\n",
        "        logits = self.linear_relu_stack(x)\n",
        "        return logits\n",
        "\n",
        "model = NeuralNetwork().to(device)\n",
        "print(model)"
      ],
      "metadata": {
        "id": "VpVsTevTWE5i",
        "colab": {
          "base_uri": "https://localhost:8080/"
        },
        "outputId": "28b16d5b-3a02-47f1-b170-24849a7d69a2"
      },
      "execution_count": null,
      "outputs": [
        {
          "output_type": "stream",
          "name": "stdout",
          "text": [
            "Using cuda device\n",
            "NeuralNetwork(\n",
            "  (flatten): Flatten(start_dim=1, end_dim=-1)\n",
            "  (linear_relu_stack): Sequential(\n",
            "    (0): Linear(in_features=784, out_features=512, bias=True)\n",
            "    (1): ReLU()\n",
            "    (2): Linear(in_features=512, out_features=512, bias=True)\n",
            "    (3): ReLU()\n",
            "    (4): Linear(in_features=512, out_features=10, bias=True)\n",
            "  )\n",
            ")\n"
          ]
        }
      ]
    },
    {
      "cell_type": "markdown",
      "source": [
        "# 모델 매개변수 최적화하기\n",
        "\n",
        "모델을 학습하려면 손실 함수(loss function) 와 옵티마이저(optimizer) 가 필요"
      ],
      "metadata": {
        "id": "hktJkC7ez5Io"
      }
    },
    {
      "cell_type": "code",
      "metadata": {
        "id": "qOQWilyPOja5"
      },
      "source": [
        "loss_fn = nn.CrossEntropyLoss()\n",
        "optimizer = torch.optim.SGD(model.parameters(), lr=1e-3)"
      ],
      "execution_count": null,
      "outputs": []
    },
    {
      "cell_type": "code",
      "source": [
        "# 각 학습 단계(training loop)에서 모델은 (배치(batch)로 제공되는) 학습 데이터셋에 대한 예측을 수행하고, \n",
        "# 예측 오류를 역전파하여 모델의 매개변수를 조정합니다.\n",
        "\n",
        "def train(dataloader, model, loss_fn, optimizer):\n",
        "    size = len(dataloader.dataset)\n",
        "    for batch, (X, y) in enumerate(dataloader):\n",
        "        X, y = X.to(device), y.to(device)\n",
        "\n",
        "        # 예측 오류 계산\n",
        "        pred = model(X)\n",
        "        loss = loss_fn(pred, y)\n",
        "\n",
        "        # 역전파\n",
        "        optimizer.zero_grad()\n",
        "        loss.backward()\n",
        "        optimizer.step()\n",
        "\n",
        "        if batch % 100 == 0:\n",
        "            loss, current = loss.item(), batch * len(X)\n",
        "            print(f\"loss: {loss:>7f}  [{current:>5d}/{size:>5d}]\")"
      ],
      "metadata": {
        "id": "p5mqjGDCz-pq"
      },
      "execution_count": null,
      "outputs": []
    },
    {
      "cell_type": "code",
      "source": [
        "#모델이 학습하고 있는지를 확인하기 위해 테스트 데이터셋으로 모델의 성능을 확인\n",
        "def test(dataloader, model, loss_fn):\n",
        "    size = len(dataloader.dataset)\n",
        "    num_batches = len(dataloader)\n",
        "    model.eval()\n",
        "    test_loss, correct = 0, 0\n",
        "    with torch.no_grad():\n",
        "        for X, y in dataloader:\n",
        "            X, y = X.to(device), y.to(device)\n",
        "            pred = model(X)\n",
        "            test_loss += loss_fn(pred, y).item()\n",
        "            correct += (pred.argmax(1) == y).type(torch.float).sum().item()\n",
        "    test_loss /= num_batches\n",
        "    correct /= size\n",
        "    print(f\"Test Error: \\n Accuracy: {(100*correct):>0.1f}%, Avg loss: {test_loss:>8f} \\n\")"
      ],
      "metadata": {
        "id": "5ndeD6eGz289"
      },
      "execution_count": null,
      "outputs": []
    },
    {
      "cell_type": "markdown",
      "source": [
        "학습 단계는 여러번의 반복 단계 (에폭(epochs)) 를 거쳐서 수행됩니다. 각 에폭에서는 모델은 더 나은 예측을 하기 위해 매개변수를 학습합니다. 각 에폭마다 모델의 정확도(accuracy)와 손실(loss)을 출력합니다; 에폭마다 정확도가 증가하고 손실이 감소하는 것을 보려고 합니다."
      ],
      "metadata": {
        "id": "JzFJjPOQ0KtJ"
      }
    },
    {
      "cell_type": "code",
      "source": [
        "epochs = 5\n",
        "for t in range(epochs):\n",
        "    print(f\"Epoch {t+1}\\n-------------------------------\")\n",
        "    train(train_dataloader, model, loss_fn, optimizer)\n",
        "    test(test_dataloader, model, loss_fn)\n",
        "print(\"Done!\")"
      ],
      "metadata": {
        "colab": {
          "base_uri": "https://localhost:8080/"
        },
        "id": "JzjKZyBUz2_K",
        "outputId": "d3f89b8b-2103-4554-d73c-ff7a715e59de"
      },
      "execution_count": null,
      "outputs": [
        {
          "output_type": "stream",
          "name": "stdout",
          "text": [
            "Epoch 1\n",
            "-------------------------------\n",
            "loss: 2.308330  [    0/60000]\n",
            "loss: 2.293197  [ 6400/60000]\n",
            "loss: 2.271720  [12800/60000]\n",
            "loss: 2.264009  [19200/60000]\n",
            "loss: 2.244643  [25600/60000]\n",
            "loss: 2.214997  [32000/60000]\n",
            "loss: 2.224468  [38400/60000]\n",
            "loss: 2.185752  [44800/60000]\n",
            "loss: 2.184716  [51200/60000]\n",
            "loss: 2.151780  [57600/60000]\n",
            "Test Error: \n",
            " Accuracy: 40.4%, Avg loss: 2.147874 \n",
            "\n",
            "Epoch 2\n",
            "-------------------------------\n",
            "loss: 2.158303  [    0/60000]\n",
            "loss: 2.146271  [ 6400/60000]\n",
            "loss: 2.086207  [12800/60000]\n",
            "loss: 2.102017  [19200/60000]\n",
            "loss: 2.051672  [25600/60000]\n",
            "loss: 1.987016  [32000/60000]\n",
            "loss: 2.011293  [38400/60000]\n",
            "loss: 1.932387  [44800/60000]\n",
            "loss: 1.939376  [51200/60000]\n",
            "loss: 1.856254  [57600/60000]\n",
            "Test Error: \n",
            " Accuracy: 54.0%, Avg loss: 1.863896 \n",
            "\n",
            "Epoch 3\n",
            "-------------------------------\n",
            "loss: 1.899227  [    0/60000]\n",
            "loss: 1.866145  [ 6400/60000]\n",
            "loss: 1.748640  [12800/60000]\n",
            "loss: 1.786550  [19200/60000]\n",
            "loss: 1.677355  [25600/60000]\n",
            "loss: 1.628768  [32000/60000]\n",
            "loss: 1.645308  [38400/60000]\n",
            "loss: 1.556955  [44800/60000]\n",
            "loss: 1.584358  [51200/60000]\n",
            "loss: 1.466130  [57600/60000]\n",
            "Test Error: \n",
            " Accuracy: 59.0%, Avg loss: 1.494743 \n",
            "\n",
            "Epoch 4\n",
            "-------------------------------\n",
            "loss: 1.565345  [    0/60000]\n",
            "loss: 1.529145  [ 6400/60000]\n",
            "loss: 1.380688  [12800/60000]\n",
            "loss: 1.449528  [19200/60000]\n",
            "loss: 1.331694  [25600/60000]\n",
            "loss: 1.329908  [32000/60000]\n",
            "loss: 1.341815  [38400/60000]\n",
            "loss: 1.278179  [44800/60000]\n",
            "loss: 1.316528  [51200/60000]\n",
            "loss: 1.206321  [57600/60000]\n",
            "Test Error: \n",
            " Accuracy: 62.1%, Avg loss: 1.238205 \n",
            "\n",
            "Epoch 5\n",
            "-------------------------------\n",
            "loss: 1.317802  [    0/60000]\n",
            "loss: 1.297093  [ 6400/60000]\n",
            "loss: 1.132432  [12800/60000]\n",
            "loss: 1.237522  [19200/60000]\n",
            "loss: 1.111629  [25600/60000]\n",
            "loss: 1.136862  [32000/60000]\n",
            "loss: 1.158224  [38400/60000]\n",
            "loss: 1.105395  [44800/60000]\n",
            "loss: 1.151072  [51200/60000]\n",
            "loss: 1.054831  [57600/60000]\n",
            "Test Error: \n",
            " Accuracy: 63.8%, Avg loss: 1.080447 \n",
            "\n",
            "Done!\n"
          ]
        }
      ]
    },
    {
      "cell_type": "markdown",
      "source": [
        "# 모델 저장하기\n",
        "\n",
        "PyTorch 모델은 학습한 매개변수를 `state_dict`라고 불리는 내부 상태 사전(internal state dictionary)에 저장합니다. 이 상태 값들은 `torch.save` 메소드를 사용하여 저장(persist)할 수 있습니다:"
      ],
      "metadata": {
        "id": "8jpakwx00P_s"
      }
    },
    {
      "cell_type": "code",
      "source": [
        "torch.save(model.state_dict(), \"model.pth\")\n",
        "print(\"Saved PyTorch Model State to model.pth\")"
      ],
      "metadata": {
        "colab": {
          "base_uri": "https://localhost:8080/"
        },
        "id": "9QurBLroz3Bg",
        "outputId": "f36188cd-da17-4721-dc4d-6b7ac8bff92a"
      },
      "execution_count": null,
      "outputs": [
        {
          "output_type": "stream",
          "name": "stdout",
          "text": [
            "Saved PyTorch Model State to model.pth\n"
          ]
        }
      ]
    },
    {
      "cell_type": "markdown",
      "source": [
        "# 모델 불러오기"
      ],
      "metadata": {
        "id": "wxcI0FUI0YJ1"
      }
    },
    {
      "cell_type": "code",
      "metadata": {
        "id": "T1qsc9TUDQfk",
        "colab": {
          "base_uri": "https://localhost:8080/"
        },
        "outputId": "be617421-492b-42ca-c472-659b62584a6b"
      },
      "source": [
        "model = NeuralNetwork()\n",
        "model.load_state_dict(torch.load(\"model.pth\"))"
      ],
      "execution_count": null,
      "outputs": [
        {
          "output_type": "execute_result",
          "data": {
            "text/plain": [
              "<All keys matched successfully>"
            ]
          },
          "metadata": {},
          "execution_count": 45
        }
      ]
    },
    {
      "cell_type": "code",
      "source": [
        "classes = [\n",
        "    \"T-shirt/top\",\n",
        "    \"Trouser\",\n",
        "    \"Pullover\",\n",
        "    \"Dress\",\n",
        "    \"Coat\",\n",
        "    \"Sandal\",\n",
        "    \"Shirt\",\n",
        "    \"Sneaker\",\n",
        "    \"Bag\",\n",
        "    \"Ankle boot\",\n",
        "]\n",
        "\n",
        "model.eval()\n",
        "x, y = test_data[0][0], test_data[0][1]\n",
        "with torch.no_grad():\n",
        "    pred = model(x)\n",
        "    predicted, actual = classes[pred[0].argmax(0)], classes[y]\n",
        "    print(f'Predicted: \"{predicted}\", Actual: \"{actual}\"')"
      ],
      "metadata": {
        "colab": {
          "base_uri": "https://localhost:8080/"
        },
        "id": "BOMqeFFT0bEn",
        "outputId": "e4edbabf-796f-41cf-d9e1-8e74fb697ac9"
      },
      "execution_count": null,
      "outputs": [
        {
          "output_type": "stream",
          "name": "stdout",
          "text": [
            "Predicted: \"Ankle boot\", Actual: \"Ankle boot\"\n"
          ]
        }
      ]
    },
    {
      "cell_type": "code",
      "source": [],
      "metadata": {
        "id": "k0x8gZbZ0bG8"
      },
      "execution_count": null,
      "outputs": []
    },
    {
      "cell_type": "code",
      "source": [],
      "metadata": {
        "id": "MCLynxcf0bJl"
      },
      "execution_count": null,
      "outputs": []
    },
    {
      "cell_type": "markdown",
      "source": [
        "출처 www.suanlab.com\n",
        "https://tutorials.pytorch.kr/beginner/basics/tensorqs_tutorial.html"
      ],
      "metadata": {
        "id": "E6LKSGquK9Ip"
      }
    }
  ]
}